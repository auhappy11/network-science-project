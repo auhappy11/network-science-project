{
 "cells": [
  {
   "cell_type": "code",
   "execution_count": 2,
   "id": "3e1e0438",
   "metadata": {},
   "outputs": [],
   "source": [
    "import numpy as np\n",
    "import pandas as pd\n",
    "import networkx as nx\n",
    "import matplotlib.pyplot as plt\n",
    "import itertools\n",
    "from factor_analyzer import FactorAnalyzer\n",
    "from factor_analyzer.factor_analyzer import calculate_bartlett_sphericity\n",
    "from factor_analyzer.factor_analyzer import calculate_kmo"
   ]
  },
  {
   "cell_type": "markdown",
   "id": "a3a8b4cb",
   "metadata": {},
   "source": [
    "# Data Import"
   ]
  },
  {
   "cell_type": "code",
   "execution_count": 3,
   "id": "47280b63",
   "metadata": {
    "scrolled": false
   },
   "outputs": [],
   "source": [
    "df_17 = pd.read_csv(\"global-reduced_genre_network-2017.csv\", sep = \"\\t\")\n",
    "df_18 = pd.read_csv(\"global-reduced_genre_network-2018.csv\", sep = \"\\t\")\n",
    "df_19 = pd.read_csv(\"global-reduced_genre_network-2019.csv\", sep = \"\\t\")"
   ]
  },
  {
   "cell_type": "code",
   "execution_count": 194,
   "id": "4e2451a6",
   "metadata": {},
   "outputs": [],
   "source": [
    "# df_20 = pd.read_csv(\"Genre_Collaboration2020.csv\")\n",
    "# df_21 = pd.read_csv(\"Genre_Collaboration2021.csv\")"
   ]
  },
  {
   "cell_type": "code",
   "execution_count": 195,
   "id": "6794f3ff",
   "metadata": {},
   "outputs": [],
   "source": [
    "# df_20 = df_20.drop(columns='Unnamed: 0', axis=0)\n",
    "# df_21 = df_21.drop(columns='Unnamed: 0', axis=0)"
   ]
  },
  {
   "cell_type": "code",
   "execution_count": 198,
   "id": "781dd438",
   "metadata": {},
   "outputs": [],
   "source": [
    "# df_20 = df_20.rename(columns = {'G1': 'source', 'G2': 'target', 'Count': 'weight'})\n",
    "# df_21 = df_21.rename(columns = {'G1': 'source', 'G2': 'target', 'Count': 'weight'})"
   ]
  },
  {
   "cell_type": "code",
   "execution_count": 4,
   "id": "038b0e8f",
   "metadata": {},
   "outputs": [],
   "source": [
    "max_weight_17 = df_17['weight'].max()\n",
    "max_weight_18 = df_18['weight'].max()\n",
    "max_weight_19 = df_19['weight'].max()"
   ]
  },
  {
   "cell_type": "code",
   "execution_count": 200,
   "id": "180c9c93",
   "metadata": {},
   "outputs": [],
   "source": [
    "# max_weight_20 = df_20['weight'].max()\n",
    "# max_weight_21 = df_21['weight'].max()"
   ]
  },
  {
   "cell_type": "code",
   "execution_count": 5,
   "id": "4982283b",
   "metadata": {},
   "outputs": [],
   "source": [
    "df_17['normalized_weight'] = df_17['weight'] / max_weight_17\n",
    "df_18['normalized_weight'] = df_18['weight'] / max_weight_18\n",
    "df_19['normalized_weight'] = df_19['weight'] / max_weight_19"
   ]
  },
  {
   "cell_type": "code",
   "execution_count": 201,
   "id": "219da386",
   "metadata": {},
   "outputs": [],
   "source": [
    "# df_20['normalized_weight'] = df_20['weight'] / max_weight_20\n",
    "# df_21['normalized_weight'] = df_21['weight'] / max_weight_21"
   ]
  },
  {
   "cell_type": "code",
   "execution_count": 6,
   "id": "ea1aa326",
   "metadata": {},
   "outputs": [
    {
     "data": {
      "text/html": [
       "<div>\n",
       "<style scoped>\n",
       "    .dataframe tbody tr th:only-of-type {\n",
       "        vertical-align: middle;\n",
       "    }\n",
       "\n",
       "    .dataframe tbody tr th {\n",
       "        vertical-align: top;\n",
       "    }\n",
       "\n",
       "    .dataframe thead th {\n",
       "        text-align: right;\n",
       "    }\n",
       "</style>\n",
       "<table border=\"1\" class=\"dataframe\">\n",
       "  <thead>\n",
       "    <tr style=\"text-align: right;\">\n",
       "      <th></th>\n",
       "      <th>source</th>\n",
       "      <th>target</th>\n",
       "      <th>weight</th>\n",
       "      <th>avg_streams</th>\n",
       "      <th>normalized_weight</th>\n",
       "    </tr>\n",
       "  </thead>\n",
       "  <tbody>\n",
       "    <tr>\n",
       "      <th>0</th>\n",
       "      <td>pop rap</td>\n",
       "      <td>rap</td>\n",
       "      <td>335</td>\n",
       "      <td>5.572952e+07</td>\n",
       "      <td>1.000000</td>\n",
       "    </tr>\n",
       "    <tr>\n",
       "      <th>1</th>\n",
       "      <td>hip hop</td>\n",
       "      <td>rap</td>\n",
       "      <td>335</td>\n",
       "      <td>6.050773e+07</td>\n",
       "      <td>1.000000</td>\n",
       "    </tr>\n",
       "    <tr>\n",
       "      <th>2</th>\n",
       "      <td>hip hop</td>\n",
       "      <td>pop rap</td>\n",
       "      <td>284</td>\n",
       "      <td>5.961380e+07</td>\n",
       "      <td>0.847761</td>\n",
       "    </tr>\n",
       "    <tr>\n",
       "      <th>3</th>\n",
       "      <td>rap</td>\n",
       "      <td>trap</td>\n",
       "      <td>278</td>\n",
       "      <td>6.841118e+07</td>\n",
       "      <td>0.829851</td>\n",
       "    </tr>\n",
       "    <tr>\n",
       "      <th>4</th>\n",
       "      <td>hip hop</td>\n",
       "      <td>trap</td>\n",
       "      <td>264</td>\n",
       "      <td>6.452061e+07</td>\n",
       "      <td>0.788060</td>\n",
       "    </tr>\n",
       "  </tbody>\n",
       "</table>\n",
       "</div>"
      ],
      "text/plain": [
       "    source   target  weight   avg_streams  normalized_weight\n",
       "0  pop rap      rap     335  5.572952e+07           1.000000\n",
       "1  hip hop      rap     335  6.050773e+07           1.000000\n",
       "2  hip hop  pop rap     284  5.961380e+07           0.847761\n",
       "3      rap     trap     278  6.841118e+07           0.829851\n",
       "4  hip hop     trap     264  6.452061e+07           0.788060"
      ]
     },
     "execution_count": 6,
     "metadata": {},
     "output_type": "execute_result"
    }
   ],
   "source": [
    "# 2017\n",
    "\n",
    "df_17.head()"
   ]
  },
  {
   "cell_type": "code",
   "execution_count": 7,
   "id": "8c2d17c4",
   "metadata": {},
   "outputs": [
    {
     "data": {
      "text/html": [
       "<div>\n",
       "<style scoped>\n",
       "    .dataframe tbody tr th:only-of-type {\n",
       "        vertical-align: middle;\n",
       "    }\n",
       "\n",
       "    .dataframe tbody tr th {\n",
       "        vertical-align: top;\n",
       "    }\n",
       "\n",
       "    .dataframe thead th {\n",
       "        text-align: right;\n",
       "    }\n",
       "</style>\n",
       "<table border=\"1\" class=\"dataframe\">\n",
       "  <thead>\n",
       "    <tr style=\"text-align: right;\">\n",
       "      <th></th>\n",
       "      <th>source</th>\n",
       "      <th>target</th>\n",
       "      <th>weight</th>\n",
       "      <th>avg_streams</th>\n",
       "      <th>normalized_weight</th>\n",
       "    </tr>\n",
       "  </thead>\n",
       "  <tbody>\n",
       "    <tr>\n",
       "      <th>0</th>\n",
       "      <td>hip hop</td>\n",
       "      <td>rap</td>\n",
       "      <td>452</td>\n",
       "      <td>6.343996e+07</td>\n",
       "      <td>1.000000</td>\n",
       "    </tr>\n",
       "    <tr>\n",
       "      <th>1</th>\n",
       "      <td>rap</td>\n",
       "      <td>trap</td>\n",
       "      <td>359</td>\n",
       "      <td>7.340500e+07</td>\n",
       "      <td>0.794248</td>\n",
       "    </tr>\n",
       "    <tr>\n",
       "      <th>2</th>\n",
       "      <td>pop rap</td>\n",
       "      <td>rap</td>\n",
       "      <td>339</td>\n",
       "      <td>5.870225e+07</td>\n",
       "      <td>0.750000</td>\n",
       "    </tr>\n",
       "    <tr>\n",
       "      <th>3</th>\n",
       "      <td>hip hop</td>\n",
       "      <td>trap</td>\n",
       "      <td>335</td>\n",
       "      <td>6.351165e+07</td>\n",
       "      <td>0.741150</td>\n",
       "    </tr>\n",
       "    <tr>\n",
       "      <th>4</th>\n",
       "      <td>hip hop</td>\n",
       "      <td>pop rap</td>\n",
       "      <td>286</td>\n",
       "      <td>5.630579e+07</td>\n",
       "      <td>0.632743</td>\n",
       "    </tr>\n",
       "  </tbody>\n",
       "</table>\n",
       "</div>"
      ],
      "text/plain": [
       "    source   target  weight   avg_streams  normalized_weight\n",
       "0  hip hop      rap     452  6.343996e+07           1.000000\n",
       "1      rap     trap     359  7.340500e+07           0.794248\n",
       "2  pop rap      rap     339  5.870225e+07           0.750000\n",
       "3  hip hop     trap     335  6.351165e+07           0.741150\n",
       "4  hip hop  pop rap     286  5.630579e+07           0.632743"
      ]
     },
     "execution_count": 7,
     "metadata": {},
     "output_type": "execute_result"
    }
   ],
   "source": [
    "# 2018\n",
    "\n",
    "df_18.head()"
   ]
  },
  {
   "cell_type": "code",
   "execution_count": 8,
   "id": "405074e7",
   "metadata": {},
   "outputs": [
    {
     "data": {
      "text/html": [
       "<div>\n",
       "<style scoped>\n",
       "    .dataframe tbody tr th:only-of-type {\n",
       "        vertical-align: middle;\n",
       "    }\n",
       "\n",
       "    .dataframe tbody tr th {\n",
       "        vertical-align: top;\n",
       "    }\n",
       "\n",
       "    .dataframe thead th {\n",
       "        text-align: right;\n",
       "    }\n",
       "</style>\n",
       "<table border=\"1\" class=\"dataframe\">\n",
       "  <thead>\n",
       "    <tr style=\"text-align: right;\">\n",
       "      <th></th>\n",
       "      <th>source</th>\n",
       "      <th>target</th>\n",
       "      <th>weight</th>\n",
       "      <th>avg_streams</th>\n",
       "      <th>normalized_weight</th>\n",
       "    </tr>\n",
       "  </thead>\n",
       "  <tbody>\n",
       "    <tr>\n",
       "      <th>0</th>\n",
       "      <td>latin</td>\n",
       "      <td>reggaeton</td>\n",
       "      <td>553</td>\n",
       "      <td>1.060915e+08</td>\n",
       "      <td>1.000000</td>\n",
       "    </tr>\n",
       "    <tr>\n",
       "      <th>1</th>\n",
       "      <td>hip hop</td>\n",
       "      <td>rap</td>\n",
       "      <td>406</td>\n",
       "      <td>5.093254e+07</td>\n",
       "      <td>0.734177</td>\n",
       "    </tr>\n",
       "    <tr>\n",
       "      <th>2</th>\n",
       "      <td>pop</td>\n",
       "      <td>pop</td>\n",
       "      <td>299</td>\n",
       "      <td>8.895246e+07</td>\n",
       "      <td>0.540687</td>\n",
       "    </tr>\n",
       "    <tr>\n",
       "      <th>3</th>\n",
       "      <td>rap</td>\n",
       "      <td>trap</td>\n",
       "      <td>297</td>\n",
       "      <td>6.818712e+07</td>\n",
       "      <td>0.537071</td>\n",
       "    </tr>\n",
       "    <tr>\n",
       "      <th>4</th>\n",
       "      <td>hip hop</td>\n",
       "      <td>trap</td>\n",
       "      <td>293</td>\n",
       "      <td>6.986488e+07</td>\n",
       "      <td>0.529837</td>\n",
       "    </tr>\n",
       "  </tbody>\n",
       "</table>\n",
       "</div>"
      ],
      "text/plain": [
       "    source     target  weight   avg_streams  normalized_weight\n",
       "0    latin  reggaeton     553  1.060915e+08           1.000000\n",
       "1  hip hop        rap     406  5.093254e+07           0.734177\n",
       "2      pop        pop     299  8.895246e+07           0.540687\n",
       "3      rap       trap     297  6.818712e+07           0.537071\n",
       "4  hip hop       trap     293  6.986488e+07           0.529837"
      ]
     },
     "execution_count": 8,
     "metadata": {},
     "output_type": "execute_result"
    }
   ],
   "source": [
    "# 2019\n",
    "\n",
    "df_19.head()"
   ]
  },
  {
   "cell_type": "code",
   "execution_count": 9,
   "id": "8f8abc87",
   "metadata": {},
   "outputs": [
    {
     "name": "stdout",
     "output_type": "stream",
     "text": [
      "The shape of 2017 Dataset is  (564, 5)\n",
      "The shape of 2018 Dataset is  (583, 5)\n",
      "The shape of 2019 Dataset is  (709, 5)\n"
     ]
    }
   ],
   "source": [
    "print(\"The shape of 2017 Dataset is \", df_17.shape)\n",
    "print(\"The shape of 2018 Dataset is \", df_18.shape)\n",
    "print(\"The shape of 2019 Dataset is \", df_19.shape)"
   ]
  },
  {
   "cell_type": "markdown",
   "id": "014f4986",
   "metadata": {},
   "source": [
    "Because there were changes to genre tagging on the spotipy API, there are some differences in number of genres with gathered dataset by the published paper. Thus, even though I have collected more data for 2020 and 2021, I have decided not to include in the project."
   ]
  },
  {
   "cell_type": "code",
   "execution_count": 204,
   "id": "6b8ddefe",
   "metadata": {},
   "outputs": [
    {
     "name": "stdout",
     "output_type": "stream",
     "text": [
      "The shape of 2020 Dataset is  (393, 4)\n",
      "The shape of 2021 Dataset is  (374, 4)\n"
     ]
    }
   ],
   "source": [
    "print(\"The shape of 2020 Dataset is \", df_20.shape)\n",
    "print(\"The shape of 2021 Dataset is \", df_21.shape)"
   ]
  },
  {
   "cell_type": "code",
   "execution_count": 10,
   "id": "43bd5896",
   "metadata": {},
   "outputs": [],
   "source": [
    "g_17 = nx.from_pandas_edgelist(df_17, 'source', 'target', ['weight'])\n",
    "g_18 = nx.from_pandas_edgelist(df_18, 'source', 'target', ['weight'])\n",
    "g_19 = nx.from_pandas_edgelist(df_19, 'source', 'target', ['weight'])"
   ]
  },
  {
   "cell_type": "code",
   "execution_count": 10,
   "id": "6581d89d",
   "metadata": {},
   "outputs": [],
   "source": [
    "nx.write_gexf(g_17, \"Genre_2017.gexf\")\n",
    "nx.write_gexf(g_18, \"Genre_2018.gexf\")\n",
    "nx.write_gexf(g_19, \"Genre_2019.gexf\")"
   ]
  },
  {
   "cell_type": "markdown",
   "id": "351146c5",
   "metadata": {},
   "source": [
    "The network graph will be drawn using Gephi with exported gexf files."
   ]
  },
  {
   "cell_type": "markdown",
   "id": "4d4d4764",
   "metadata": {},
   "source": [
    "## Exploratory Data Analysis"
   ]
  },
  {
   "cell_type": "code",
   "execution_count": 11,
   "id": "ac296858",
   "metadata": {},
   "outputs": [
    {
     "name": "stdout",
     "output_type": "stream",
     "text": [
      "The 2017 graph has 72 nodes\n",
      "The 2018 graph has 79 nodes\n",
      "The 2019 graph has 89 nodes\n"
     ]
    }
   ],
   "source": [
    "#number of nodes\n",
    "node_num_2017 = len(g_17)\n",
    "node_num_2018 = len(g_18)\n",
    "node_num_2019 = len(g_19)\n",
    "\n",
    "print(f\"The 2017 graph has {node_num_2017} nodes\")\n",
    "print(f\"The 2018 graph has {node_num_2018} nodes\")\n",
    "print(f\"The 2019 graph has {node_num_2019} nodes\")"
   ]
  },
  {
   "cell_type": "code",
   "execution_count": 12,
   "id": "a7a573e8",
   "metadata": {},
   "outputs": [
    {
     "name": "stdout",
     "output_type": "stream",
     "text": [
      "The 2017 graph has 564 edges\n",
      "The 2018 graph has 583 edges\n",
      "The 2019 graph has 709 edges\n"
     ]
    }
   ],
   "source": [
    "#number of edges\n",
    "edge_num_2017 = g_17.number_of_edges()\n",
    "edge_num_2018 = g_18.number_of_edges()\n",
    "edge_num_2019 = g_19.number_of_edges()\n",
    "\n",
    "print(f\"The 2017 graph has {edge_num_2017} edges\")\n",
    "print(f\"The 2018 graph has {edge_num_2018} edges\")\n",
    "print(f\"The 2019 graph has {edge_num_2019} edges\")"
   ]
  },
  {
   "cell_type": "code",
   "execution_count": 13,
   "id": "0a096b36",
   "metadata": {},
   "outputs": [
    {
     "name": "stdout",
     "output_type": "stream",
     "text": [
      "The 2017 graph has average degree of  15.667\n",
      "The 2018 graph has average degree of  14.759\n",
      "The 2019 graph has average degree of  15.933\n"
     ]
    }
   ],
   "source": [
    "#average degree\n",
    "avg_deg_2017 = sum(dict(g_17.degree()).values()) / len(g_17)\n",
    "avg_deg_2018 = sum(dict(g_18.degree()).values()) / len(g_18)\n",
    "avg_deg_2019 = sum(dict(g_19.degree()).values()) / len(g_19)\n",
    "\n",
    "print(f\"The 2017 graph has average degree of {avg_deg_2017: .3f}\")\n",
    "print(f\"The 2018 graph has average degree of {avg_deg_2018: .3f}\")\n",
    "print(f\"The 2019 graph has average degree of {avg_deg_2019: .3f}\")"
   ]
  },
  {
   "cell_type": "code",
   "execution_count": 14,
   "id": "fb6f2145",
   "metadata": {},
   "outputs": [
    {
     "name": "stdout",
     "output_type": "stream",
     "text": [
      "The graph has weighted average degree of  256.917\n",
      "The graph has weighted average degree of  247.418\n",
      "The graph has weighted average degree of  236.697\n"
     ]
    }
   ],
   "source": [
    "#weighted average degree\n",
    "deg_dict_17 = dict(g_17.degree(weight='weight'))\n",
    "deg_dict_18 = dict(g_18.degree(weight='weight'))\n",
    "deg_dict_19 = dict(g_19.degree(weight='weight'))\n",
    "\n",
    "avg_weighted_deg_2017 = sum(deg_dict_17.values())/len(deg_dict_17)\n",
    "avg_weighted_deg_2018 = sum(deg_dict_18.values())/len(deg_dict_18)\n",
    "avg_weighted_deg_2019 = sum(deg_dict_19.values())/len(deg_dict_19)\n",
    "\n",
    "print(f\"The graph has weighted average degree of {avg_weighted_deg_2017: .3f}\")\n",
    "print(f\"The graph has weighted average degree of {avg_weighted_deg_2018: .3f}\")\n",
    "print(f\"The graph has weighted average degree of {avg_weighted_deg_2019: .3f}\")"
   ]
  },
  {
   "cell_type": "code",
   "execution_count": 15,
   "id": "f0a3cb94",
   "metadata": {
    "id": "RdnZb2QPQSkx"
   },
   "outputs": [],
   "source": [
    "degrees_17 = [g_17.degree(n) for n in g_17.nodes()]\n",
    "degrees_18 = [g_18.degree(n) for n in g_18.nodes()]\n",
    "degrees_19 = [g_19.degree(n) for n in g_19.nodes()]\n",
    "\n",
    "\n",
    "#degree distribution\n",
    "dist_17 = np.bincount(degrees_17)\n",
    "dist_18 = np.bincount(degrees_18)\n",
    "dist_19 = np.bincount(degrees_19)\n",
    "\n",
    "ccdf_17 = 1 - np.cumsum(dist_17) / sum(dist_17)\n",
    "ccdf_18 = 1 - np.cumsum(dist_18) / sum(dist_18)\n",
    "ccdf_19 = 1 - np.cumsum(dist_19) / sum(dist_19)"
   ]
  },
  {
   "cell_type": "code",
   "execution_count": 16,
   "id": "ba286b6b",
   "metadata": {
    "colab": {
     "base_uri": "https://localhost:8080/",
     "height": 300
    },
    "id": "_QCn5DVTRDzX",
    "outputId": "1fab248c-2af2-4976-d00f-e98ac9f4d279"
   },
   "outputs": [
    {
     "data": {
      "text/plain": [
       "Text(0.5, 1.0, '2017')"
      ]
     },
     "execution_count": 16,
     "metadata": {},
     "output_type": "execute_result"
    },
    {
     "data": {
      "image/png": "[encoded data removed]",
      "text/plain": [
       "<Figure size 432x288 with 1 Axes>"
      ]
     },
     "metadata": {
      "needs_background": "light"
     },
     "output_type": "display_data"
    }
   ],
   "source": [
    "plt.loglog(range(len(ccdf_17)), ccdf_17)\n",
    "plt.xlabel(\"Degree\")\n",
    "plt.ylabel(\"CCDF\")\n",
    "plt.title(\"2017\")"
   ]
  },
  {
   "cell_type": "code",
   "execution_count": 17,
   "id": "5ad6efc0",
   "metadata": {},
   "outputs": [
    {
     "data": {
      "text/plain": [
       "Text(0.5, 1.0, '2018')"
      ]
     },
     "execution_count": 17,
     "metadata": {},
     "output_type": "execute_result"
    },
    {
     "data": {
      "image/png": "[encoded data removed]",
      "text/plain": [
       "<Figure size 432x288 with 1 Axes>"
      ]
     },
     "metadata": {
      "needs_background": "light"
     },
     "output_type": "display_data"
    }
   ],
   "source": [
    "plt.loglog(range(len(ccdf_18)), ccdf_18)\n",
    "plt.xlabel(\"Degree\")\n",
    "plt.ylabel(\"CCDF\")\n",
    "plt.title(\"2018\")"
   ]
  },
  {
   "cell_type": "code",
   "execution_count": 18,
   "id": "cfb2f68d",
   "metadata": {},
   "outputs": [
    {
     "data": {
      "text/plain": [
       "Text(0.5, 1.0, '2019')"
      ]
     },
     "execution_count": 18,
     "metadata": {},
     "output_type": "execute_result"
    },
    {
     "data": {
      "image/png": "[encoded data removed]",
      "text/plain": [
       "<Figure size 432x288 with 1 Axes>"
      ]
     },
     "metadata": {
      "needs_background": "light"
     },
     "output_type": "display_data"
    }
   ],
   "source": [
    "plt.loglog(range(len(ccdf_19)), ccdf_19)\n",
    "plt.xlabel(\"Degree\")\n",
    "plt.ylabel(\"CCDF\")\n",
    "plt.title(\"2019\")"
   ]
  },
  {
   "cell_type": "code",
   "execution_count": 19,
   "id": "7b80e779",
   "metadata": {},
   "outputs": [
    {
     "name": "stdout",
     "output_type": "stream",
     "text": [
      "Average clustering coefficient of 2017 graph is  0.743\n",
      "Average clustering coefficient of 2018 graph is  0.757\n",
      "Average clustering coefficient of 2019 graph is  0.754\n"
     ]
    }
   ],
   "source": [
    "#average clustering coefficient\n",
    "avg_cc_2017 = nx.average_clustering(g_17)\n",
    "avg_cc_2018 = nx.average_clustering(g_18)\n",
    "avg_cc_2019 = nx.average_clustering(g_19)\n",
    "\n",
    "print(f\"Average clustering coefficient of 2017 graph is {avg_cc_2017: .3f}\")\n",
    "print(f\"Average clustering coefficient of 2018 graph is {avg_cc_2018: .3f}\")\n",
    "print(f\"Average clustering coefficient of 2019 graph is {avg_cc_2019: .3f}\")"
   ]
  },
  {
   "cell_type": "code",
   "execution_count": 20,
   "id": "b06c319c",
   "metadata": {},
   "outputs": [
    {
     "name": "stdout",
     "output_type": "stream",
     "text": [
      "Number of Self Loops in 2017 is 24\n",
      "Number of Self Loops in 2018 is 21\n",
      "Number of Self Loops in 2019 is 28\n"
     ]
    }
   ],
   "source": [
    "# number of self-loops\n",
    "num_self_loops_17 = nx.number_of_selfloops(g_17)\n",
    "num_self_loops_18 = nx.number_of_selfloops(g_18)\n",
    "num_self_loops_19 = nx.number_of_selfloops(g_19)\n",
    "\n",
    "print(f\"Number of Self Loops in 2017 is {num_self_loops_17}\")\n",
    "print(f\"Number of Self Loops in 2018 is {num_self_loops_18}\")\n",
    "print(f\"Number of Self Loops in 2019 is {num_self_loops_19}\")"
   ]
  },
  {
   "cell_type": "code",
   "execution_count": 21,
   "id": "0933fb3f",
   "metadata": {},
   "outputs": [
    {
     "data": {
      "text/html": [
       "<div>\n",
       "<style scoped>\n",
       "    .dataframe tbody tr th:only-of-type {\n",
       "        vertical-align: middle;\n",
       "    }\n",
       "\n",
       "    .dataframe tbody tr th {\n",
       "        vertical-align: top;\n",
       "    }\n",
       "\n",
       "    .dataframe thead th {\n",
       "        text-align: right;\n",
       "    }\n",
       "</style>\n",
       "<table border=\"1\" class=\"dataframe\">\n",
       "  <thead>\n",
       "    <tr style=\"text-align: right;\">\n",
       "      <th></th>\n",
       "      <th>Nodes</th>\n",
       "      <th>Edges</th>\n",
       "      <th>Avg Degree</th>\n",
       "      <th>Avg Weighted Deg</th>\n",
       "      <th>Clustering Coefficient</th>\n",
       "      <th>Self-Loops</th>\n",
       "    </tr>\n",
       "  </thead>\n",
       "  <tbody>\n",
       "    <tr>\n",
       "      <th>0</th>\n",
       "      <td>72</td>\n",
       "      <td>564</td>\n",
       "      <td>15.666667</td>\n",
       "      <td>256.916667</td>\n",
       "      <td>0.742602</td>\n",
       "      <td>24</td>\n",
       "    </tr>\n",
       "    <tr>\n",
       "      <th>1</th>\n",
       "      <td>79</td>\n",
       "      <td>583</td>\n",
       "      <td>14.759494</td>\n",
       "      <td>247.417722</td>\n",
       "      <td>0.756991</td>\n",
       "      <td>21</td>\n",
       "    </tr>\n",
       "    <tr>\n",
       "      <th>2</th>\n",
       "      <td>89</td>\n",
       "      <td>709</td>\n",
       "      <td>15.932584</td>\n",
       "      <td>236.696629</td>\n",
       "      <td>0.754027</td>\n",
       "      <td>28</td>\n",
       "    </tr>\n",
       "  </tbody>\n",
       "</table>\n",
       "</div>"
      ],
      "text/plain": [
       "   Nodes  Edges  Avg Degree  Avg Weighted Deg  Clustering Coefficient  \\\n",
       "0     72    564   15.666667        256.916667                0.742602   \n",
       "1     79    583   14.759494        247.417722                0.756991   \n",
       "2     89    709   15.932584        236.696629                0.754027   \n",
       "\n",
       "   Self-Loops  \n",
       "0          24  \n",
       "1          21  \n",
       "2          28  "
      ]
     },
     "execution_count": 21,
     "metadata": {},
     "output_type": "execute_result"
    }
   ],
   "source": [
    "eda_df = pd.DataFrame(columns=['Nodes', 'Edges', 'Avg Degree', \n",
    "                      'Avg Weighted Deg', 'Clustering Coefficient', 'Self-Loops'])\n",
    "eda_df['Nodes'] = [node_num_2017, node_num_2018, node_num_2019]\n",
    "eda_df['Edges'] = [edge_num_2017, edge_num_2018, edge_num_2019]\n",
    "eda_df['Avg Degree'] = [avg_deg_2017, avg_deg_2018, avg_deg_2019]\n",
    "eda_df['Avg Weighted Deg'] = [avg_weighted_deg_2017, avg_weighted_deg_2018, avg_weighted_deg_2019]\n",
    "eda_df['Clustering Coefficient'] = [avg_cc_2017, avg_cc_2018, avg_cc_2019]\n",
    "eda_df['Self-Loops'] = [num_self_loops_17, num_self_loops_18, num_self_loops_19]\n",
    "\n",
    "eda_df"
   ]
  },
  {
   "cell_type": "code",
   "execution_count": 22,
   "id": "f2daaa13",
   "metadata": {},
   "outputs": [],
   "source": [
    "eda_df = eda_df.rename(index={0: '2017', 1: '2018', 2: '2019'})"
   ]
  },
  {
   "cell_type": "code",
   "execution_count": 23,
   "id": "8e88d039",
   "metadata": {
    "scrolled": true
   },
   "outputs": [
    {
     "data": {
      "text/html": [
       "<div>\n",
       "<style scoped>\n",
       "    .dataframe tbody tr th:only-of-type {\n",
       "        vertical-align: middle;\n",
       "    }\n",
       "\n",
       "    .dataframe tbody tr th {\n",
       "        vertical-align: top;\n",
       "    }\n",
       "\n",
       "    .dataframe thead th {\n",
       "        text-align: right;\n",
       "    }\n",
       "</style>\n",
       "<table border=\"1\" class=\"dataframe\">\n",
       "  <thead>\n",
       "    <tr style=\"text-align: right;\">\n",
       "      <th></th>\n",
       "      <th>2017</th>\n",
       "      <th>2018</th>\n",
       "      <th>2019</th>\n",
       "    </tr>\n",
       "  </thead>\n",
       "  <tbody>\n",
       "    <tr>\n",
       "      <th>Nodes</th>\n",
       "      <td>72.000000</td>\n",
       "      <td>79.000000</td>\n",
       "      <td>89.000000</td>\n",
       "    </tr>\n",
       "    <tr>\n",
       "      <th>Edges</th>\n",
       "      <td>564.000000</td>\n",
       "      <td>583.000000</td>\n",
       "      <td>709.000000</td>\n",
       "    </tr>\n",
       "    <tr>\n",
       "      <th>Avg Degree</th>\n",
       "      <td>15.666667</td>\n",
       "      <td>14.759494</td>\n",
       "      <td>15.932584</td>\n",
       "    </tr>\n",
       "    <tr>\n",
       "      <th>Avg Weighted Deg</th>\n",
       "      <td>256.916667</td>\n",
       "      <td>247.417722</td>\n",
       "      <td>236.696629</td>\n",
       "    </tr>\n",
       "    <tr>\n",
       "      <th>Clustering Coefficient</th>\n",
       "      <td>0.742602</td>\n",
       "      <td>0.756991</td>\n",
       "      <td>0.754027</td>\n",
       "    </tr>\n",
       "    <tr>\n",
       "      <th>Self-Loops</th>\n",
       "      <td>24.000000</td>\n",
       "      <td>21.000000</td>\n",
       "      <td>28.000000</td>\n",
       "    </tr>\n",
       "  </tbody>\n",
       "</table>\n",
       "</div>"
      ],
      "text/plain": [
       "                              2017        2018        2019\n",
       "Nodes                    72.000000   79.000000   89.000000\n",
       "Edges                   564.000000  583.000000  709.000000\n",
       "Avg Degree               15.666667   14.759494   15.932584\n",
       "Avg Weighted Deg        256.916667  247.417722  236.696629\n",
       "Clustering Coefficient    0.742602    0.756991    0.754027\n",
       "Self-Loops               24.000000   21.000000   28.000000"
      ]
     },
     "execution_count": 23,
     "metadata": {},
     "output_type": "execute_result"
    }
   ],
   "source": [
    "eda_df.T"
   ]
  },
  {
   "cell_type": "markdown",
   "id": "5cef95d6",
   "metadata": {},
   "source": [
    "## Network Metrics"
   ]
  },
  {
   "cell_type": "markdown",
   "id": "3765ff88",
   "metadata": {},
   "source": [
    "### Preferential Attachment"
   ]
  },
  {
   "cell_type": "code",
   "execution_count": 24,
   "id": "269a3205",
   "metadata": {},
   "outputs": [],
   "source": [
    "#preferential attachment\n",
    "pa_17 = nx.preferential_attachment(g_17)\n",
    "pa_18 = nx.preferential_attachment(g_18)\n",
    "pa_19 = nx.preferential_attachment(g_19)"
   ]
  },
  {
   "cell_type": "code",
   "execution_count": 25,
   "id": "7cf0fc3c",
   "metadata": {},
   "outputs": [],
   "source": [
    "pa_result_17 = pd.DataFrame(columns=['source', 'target', 'preferential_attachment'])\n",
    "for i, row in df_17.iterrows():\n",
    "    source = row['source']\n",
    "    target = row['target']\n",
    "    preferential_attachment = list(nx.preferential_attachment(g_17, [(source, target)]))[0][2]\n",
    "    pa_result_17.loc[i] = [source, target, preferential_attachment]\n"
   ]
  },
  {
   "cell_type": "code",
   "execution_count": 26,
   "id": "116a317a",
   "metadata": {},
   "outputs": [],
   "source": [
    "pa_result_18 = pd.DataFrame(columns=['source', 'target', 'preferential_attachment'])\n",
    "for i, row in df_18.iterrows():\n",
    "    source = row['source']\n",
    "    target = row['target']\n",
    "    preferential_attachment = list(nx.preferential_attachment(g_18, [(source, target)]))[0][2]\n",
    "    pa_result_18.loc[i] = [source, target, preferential_attachment]\n"
   ]
  },
  {
   "cell_type": "code",
   "execution_count": 27,
   "id": "006da868",
   "metadata": {},
   "outputs": [],
   "source": [
    "pa_result_19 = pd.DataFrame(columns=['source', 'target', 'preferential_attachment'])\n",
    "for i, row in df_19.iterrows():\n",
    "    source = row['source']\n",
    "    target = row['target']\n",
    "    preferential_attachment = list(nx.preferential_attachment(g_19, [(source, target)]))[0][2]\n",
    "    pa_result_19.loc[i] = [source, target, preferential_attachment]\n"
   ]
  },
  {
   "cell_type": "code",
   "execution_count": 28,
   "id": "49c0d731",
   "metadata": {},
   "outputs": [
    {
     "data": {
      "text/html": [
       "<div>\n",
       "<style scoped>\n",
       "    .dataframe tbody tr th:only-of-type {\n",
       "        vertical-align: middle;\n",
       "    }\n",
       "\n",
       "    .dataframe tbody tr th {\n",
       "        vertical-align: top;\n",
       "    }\n",
       "\n",
       "    .dataframe thead th {\n",
       "        text-align: right;\n",
       "    }\n",
       "</style>\n",
       "<table border=\"1\" class=\"dataframe\">\n",
       "  <thead>\n",
       "    <tr style=\"text-align: right;\">\n",
       "      <th></th>\n",
       "      <th>source</th>\n",
       "      <th>target</th>\n",
       "      <th>preferential_attachment</th>\n",
       "    </tr>\n",
       "  </thead>\n",
       "  <tbody>\n",
       "    <tr>\n",
       "      <th>0</th>\n",
       "      <td>pop rap</td>\n",
       "      <td>rap</td>\n",
       "      <td>1978</td>\n",
       "    </tr>\n",
       "    <tr>\n",
       "      <th>1</th>\n",
       "      <td>hip hop</td>\n",
       "      <td>rap</td>\n",
       "      <td>2107</td>\n",
       "    </tr>\n",
       "    <tr>\n",
       "      <th>2</th>\n",
       "      <td>hip hop</td>\n",
       "      <td>pop rap</td>\n",
       "      <td>2254</td>\n",
       "    </tr>\n",
       "    <tr>\n",
       "      <th>3</th>\n",
       "      <td>rap</td>\n",
       "      <td>trap</td>\n",
       "      <td>1634</td>\n",
       "    </tr>\n",
       "    <tr>\n",
       "      <th>4</th>\n",
       "      <td>hip hop</td>\n",
       "      <td>trap</td>\n",
       "      <td>1862</td>\n",
       "    </tr>\n",
       "  </tbody>\n",
       "</table>\n",
       "</div>"
      ],
      "text/plain": [
       "    source   target  preferential_attachment\n",
       "0  pop rap      rap                     1978\n",
       "1  hip hop      rap                     2107\n",
       "2  hip hop  pop rap                     2254\n",
       "3      rap     trap                     1634\n",
       "4  hip hop     trap                     1862"
      ]
     },
     "execution_count": 28,
     "metadata": {},
     "output_type": "execute_result"
    }
   ],
   "source": [
    "pa_result_17.head()"
   ]
  },
  {
   "cell_type": "code",
   "execution_count": 29,
   "id": "02af7072",
   "metadata": {},
   "outputs": [
    {
     "data": {
      "text/html": [
       "<div>\n",
       "<style scoped>\n",
       "    .dataframe tbody tr th:only-of-type {\n",
       "        vertical-align: middle;\n",
       "    }\n",
       "\n",
       "    .dataframe tbody tr th {\n",
       "        vertical-align: top;\n",
       "    }\n",
       "\n",
       "    .dataframe thead th {\n",
       "        text-align: right;\n",
       "    }\n",
       "</style>\n",
       "<table border=\"1\" class=\"dataframe\">\n",
       "  <thead>\n",
       "    <tr style=\"text-align: right;\">\n",
       "      <th></th>\n",
       "      <th>source</th>\n",
       "      <th>target</th>\n",
       "      <th>preferential_attachment</th>\n",
       "    </tr>\n",
       "  </thead>\n",
       "  <tbody>\n",
       "    <tr>\n",
       "      <th>0</th>\n",
       "      <td>hip hop</td>\n",
       "      <td>rap</td>\n",
       "      <td>2958</td>\n",
       "    </tr>\n",
       "    <tr>\n",
       "      <th>1</th>\n",
       "      <td>rap</td>\n",
       "      <td>trap</td>\n",
       "      <td>2193</td>\n",
       "    </tr>\n",
       "    <tr>\n",
       "      <th>2</th>\n",
       "      <td>pop rap</td>\n",
       "      <td>rap</td>\n",
       "      <td>2244</td>\n",
       "    </tr>\n",
       "    <tr>\n",
       "      <th>3</th>\n",
       "      <td>hip hop</td>\n",
       "      <td>trap</td>\n",
       "      <td>2494</td>\n",
       "    </tr>\n",
       "    <tr>\n",
       "      <th>4</th>\n",
       "      <td>hip hop</td>\n",
       "      <td>pop rap</td>\n",
       "      <td>2552</td>\n",
       "    </tr>\n",
       "  </tbody>\n",
       "</table>\n",
       "</div>"
      ],
      "text/plain": [
       "    source   target  preferential_attachment\n",
       "0  hip hop      rap                     2958\n",
       "1      rap     trap                     2193\n",
       "2  pop rap      rap                     2244\n",
       "3  hip hop     trap                     2494\n",
       "4  hip hop  pop rap                     2552"
      ]
     },
     "execution_count": 29,
     "metadata": {},
     "output_type": "execute_result"
    }
   ],
   "source": [
    "pa_result_18.head()"
   ]
  },
  {
   "cell_type": "code",
   "execution_count": 30,
   "id": "52c9ebd8",
   "metadata": {},
   "outputs": [
    {
     "data": {
      "text/html": [
       "<div>\n",
       "<style scoped>\n",
       "    .dataframe tbody tr th:only-of-type {\n",
       "        vertical-align: middle;\n",
       "    }\n",
       "\n",
       "    .dataframe tbody tr th {\n",
       "        vertical-align: top;\n",
       "    }\n",
       "\n",
       "    .dataframe thead th {\n",
       "        text-align: right;\n",
       "    }\n",
       "</style>\n",
       "<table border=\"1\" class=\"dataframe\">\n",
       "  <thead>\n",
       "    <tr style=\"text-align: right;\">\n",
       "      <th></th>\n",
       "      <th>source</th>\n",
       "      <th>target</th>\n",
       "      <th>preferential_attachment</th>\n",
       "    </tr>\n",
       "  </thead>\n",
       "  <tbody>\n",
       "    <tr>\n",
       "      <th>0</th>\n",
       "      <td>latin</td>\n",
       "      <td>reggaeton</td>\n",
       "      <td>1600</td>\n",
       "    </tr>\n",
       "    <tr>\n",
       "      <th>1</th>\n",
       "      <td>hip hop</td>\n",
       "      <td>rap</td>\n",
       "      <td>3599</td>\n",
       "    </tr>\n",
       "    <tr>\n",
       "      <th>2</th>\n",
       "      <td>pop</td>\n",
       "      <td>pop</td>\n",
       "      <td>6241</td>\n",
       "    </tr>\n",
       "    <tr>\n",
       "      <th>3</th>\n",
       "      <td>rap</td>\n",
       "      <td>trap</td>\n",
       "      <td>2928</td>\n",
       "    </tr>\n",
       "    <tr>\n",
       "      <th>4</th>\n",
       "      <td>hip hop</td>\n",
       "      <td>trap</td>\n",
       "      <td>2832</td>\n",
       "    </tr>\n",
       "  </tbody>\n",
       "</table>\n",
       "</div>"
      ],
      "text/plain": [
       "    source     target  preferential_attachment\n",
       "0    latin  reggaeton                     1600\n",
       "1  hip hop        rap                     3599\n",
       "2      pop        pop                     6241\n",
       "3      rap       trap                     2928\n",
       "4  hip hop       trap                     2832"
      ]
     },
     "execution_count": 30,
     "metadata": {},
     "output_type": "execute_result"
    }
   ],
   "source": [
    "pa_result_19.head()"
   ]
  },
  {
   "cell_type": "markdown",
   "id": "f3843f6e",
   "metadata": {},
   "source": [
    "### Common Neighbors"
   ]
  },
  {
   "cell_type": "code",
   "execution_count": 31,
   "id": "d58abaf1",
   "metadata": {},
   "outputs": [],
   "source": [
    "common_neigh_17 = pd.DataFrame(columns=['source', 'target', 'num_common_neighbors'])\n",
    "common_neigh_18 = pd.DataFrame(columns=['source', 'target', 'num_common_neighbors'])\n",
    "common_neigh_19 = pd.DataFrame(columns=['source', 'target', 'num_common_neighbors'])\n",
    "\n",
    "for i, row in df_17.iterrows():\n",
    "    source = row['source']\n",
    "    target = row['target']\n",
    "    common_neighbors_17 = len(set(nx.common_neighbors(g_17, source, target)))\n",
    "    common_neigh_17.loc[i] = [source, target, common_neighbors_17]\n",
    "\n",
    "for i, row in df_18.iterrows():\n",
    "    source = row['source']\n",
    "    target = row['target']\n",
    "    common_neighbors_18 = len(set(nx.common_neighbors(g_18, source, target)))\n",
    "    common_neigh_18.loc[i] = [source, target, common_neighbors_18]\n",
    "\n",
    "for i, row in df_19.iterrows():\n",
    "    source = row['source']\n",
    "    target = row['target']\n",
    "    common_neighbors_19 = len(set(nx.common_neighbors(g_19, source, target)))\n",
    "    common_neigh_19.loc[i] = [source, target, common_neighbors_19]"
   ]
  },
  {
   "cell_type": "markdown",
   "id": "6760f9e9",
   "metadata": {},
   "source": [
    "### Neighborhood Overlap"
   ]
  },
  {
   "cell_type": "code",
   "execution_count": 32,
   "id": "98a60410",
   "metadata": {},
   "outputs": [],
   "source": [
    "#neighborhood overlap\n",
    "\n",
    "neigh_overlap_17 = pd.DataFrame(columns=['source', 'target', 'neighborhood_overlap'])\n",
    "neigh_overlap_18 = pd.DataFrame(columns=['source', 'target', 'neighborhood_overlap'])\n",
    "neigh_overlap_19 = pd.DataFrame(columns=['source', 'target', 'neighborhood_overlap'])\n",
    "\n",
    "for i, row in df_17.iterrows():\n",
    "    source = row['source']\n",
    "    target = row['target']\n",
    "    common_neighbors_17 = len(set(nx.common_neighbors(g_17, source, target)))\n",
    "    n_join_nbrs_17 = g_17.degree(source) + g_17.degree(target) - common_neighbors_17 - 2\n",
    "    no_17 = common_neighbors_17 / n_join_nbrs_17\n",
    "    neigh_overlap_17.loc[i] = [source, target, no_17]\n",
    "\n",
    "for i, row in df_18.iterrows():\n",
    "    source = row['source']\n",
    "    target = row['target']\n",
    "    common_neighbors_18 = len(set(nx.common_neighbors(g_18, source, target)))\n",
    "    n_join_nbrs_18 = g_18.degree(source) + g_18.degree(target) - common_neighbors_18 - 2\n",
    "    no_18 = common_neighbors_18 / n_join_nbrs_18\n",
    "    neigh_overlap_18.loc[i] = [source, target, no_18]\n",
    "\n",
    "for i, row in df_19.iterrows():\n",
    "    source = row['source']\n",
    "    target = row['target']\n",
    "    common_neighbors_19 = len(set(nx.common_neighbors(g_19, source, target)))\n",
    "    n_join_nbrs_19 = g_19.degree(source) + g_19.degree(target) - common_neighbors_19 - 2\n",
    "    no_19 = common_neighbors_19 / n_join_nbrs_19\n",
    "    neigh_overlap_19.loc[i] = [source, target, no_19]"
   ]
  },
  {
   "cell_type": "markdown",
   "id": "51817073",
   "metadata": {},
   "source": [
    "### Edge Betweenness"
   ]
  },
  {
   "cell_type": "code",
   "execution_count": 33,
   "id": "283fb503",
   "metadata": {},
   "outputs": [],
   "source": [
    "#edge betweenness\n",
    "\n",
    "betweenness_17 = nx.edge_betweenness_centrality(g_17)\n",
    "betweenness_18 = nx.edge_betweenness_centrality(g_18)\n",
    "betweenness_19 = nx.edge_betweenness_centrality(g_19)"
   ]
  },
  {
   "cell_type": "code",
   "execution_count": 34,
   "id": "1a178592",
   "metadata": {},
   "outputs": [],
   "source": [
    "btw_df17 = pd.DataFrame(betweenness_17.items(), columns = ['edges', 'betweenness'])\n",
    "btw_df17[['source', 'target']] = pd.DataFrame(btw_df17['edges'].tolist())\n",
    "btw_df17.drop('edges', axis=1, inplace=True)\n",
    "btw_df17 = btw_df17[['source', 'target', 'betweenness']]\n",
    "\n",
    "btw_df18 = pd.DataFrame(betweenness_18.items(), columns = ['edges', 'betweenness'])\n",
    "btw_df18[['source', 'target']] = pd.DataFrame(btw_df18['edges'].tolist())\n",
    "btw_df18.drop('edges', axis=1, inplace=True)\n",
    "btw_df18 = btw_df18[['source', 'target', 'betweenness']]\n",
    "\n",
    "btw_df19 = pd.DataFrame(betweenness_19.items(), columns = ['edges', 'betweenness'])\n",
    "btw_df19[['source', 'target']] = pd.DataFrame(btw_df19['edges'].tolist())\n",
    "btw_df19.drop('edges', axis=1, inplace=True)\n",
    "btw_df19 = btw_df19[['source', 'target', 'betweenness']]\n"
   ]
  },
  {
   "cell_type": "markdown",
   "id": "8bee3875",
   "metadata": {},
   "source": [
    "### Resource Allocation"
   ]
  },
  {
   "cell_type": "code",
   "execution_count": 35,
   "id": "5cade7bc",
   "metadata": {},
   "outputs": [],
   "source": [
    "# resource allocation\n",
    "ra_17 = nx.resource_allocation_index(g_17)\n",
    "ra_18 = nx.resource_allocation_index(g_18)\n",
    "ra_19 = nx.resource_allocation_index(g_19)"
   ]
  },
  {
   "cell_type": "code",
   "execution_count": 36,
   "id": "77bb952b",
   "metadata": {},
   "outputs": [],
   "source": [
    "ra_result_17 = pd.DataFrame(columns=['source', 'target', 'resource_allocation'])\n",
    "ra_result_18 = pd.DataFrame(columns=['source', 'target', 'resource_allocation'])\n",
    "ra_result_19 = pd.DataFrame(columns=['source', 'target', 'resource_allocation'])\n",
    "\n",
    "for i, row in df_17.iterrows():\n",
    "    source = row['source']\n",
    "    target = row['target']\n",
    "    ra = list(nx.resource_allocation_index(g_17, [(source, target)]))[0][2]\n",
    "    ra_result_17.loc[i] = [source, target, ra]\n",
    "\n",
    "for i, row in df_18.iterrows():\n",
    "    source = row['source']\n",
    "    target = row['target']\n",
    "    ra = list(nx.resource_allocation_index(g_18, [(source, target)]))[0][2]\n",
    "    ra_result_18.loc[i] = [source, target, ra]\n",
    "    \n",
    "for i, row in df_19.iterrows():\n",
    "    source = row['source']\n",
    "    target = row['target']\n",
    "    ra = list(nx.resource_allocation_index(g_19, [(source, target)]))[0][2]\n",
    "    ra_result_19.loc[i] = [source, target, ra]"
   ]
  },
  {
   "cell_type": "markdown",
   "id": "dc5aa518",
   "metadata": {},
   "source": [
    "The values for resource allocations appears to be more than ranged between 0 and 1 due to self-loops."
   ]
  },
  {
   "cell_type": "markdown",
   "id": "6e28fa41",
   "metadata": {},
   "source": [
    "### Final Dataset"
   ]
  },
  {
   "cell_type": "code",
   "execution_count": 37,
   "id": "22c844a7",
   "metadata": {},
   "outputs": [],
   "source": [
    "df_17_final = ra_result_17.copy()\n",
    "final_2017 = df_17_final.merge(neigh_overlap_17, on = ['source', 'target']).merge(common_neigh_17, on = ['source', 'target']).merge(pa_result_17, on = ['source', 'target'])\n",
    "final_2017 = final_2017.merge(df_17, on = ['source', 'target'])\n",
    "final_2017 = final_2017.drop(columns=['avg_streams', 'normalized_weight'])\n",
    "final_2017 = final_2017.merge(btw_df17, on = ['source', 'target'])"
   ]
  },
  {
   "cell_type": "code",
   "execution_count": 79,
   "id": "3b5f9e1b",
   "metadata": {
    "scrolled": false
   },
   "outputs": [
    {
     "data": {
      "text/html": [
       "<div>\n",
       "<style scoped>\n",
       "    .dataframe tbody tr th:only-of-type {\n",
       "        vertical-align: middle;\n",
       "    }\n",
       "\n",
       "    .dataframe tbody tr th {\n",
       "        vertical-align: top;\n",
       "    }\n",
       "\n",
       "    .dataframe thead th {\n",
       "        text-align: right;\n",
       "    }\n",
       "</style>\n",
       "<table border=\"1\" class=\"dataframe\">\n",
       "  <thead>\n",
       "    <tr style=\"text-align: right;\">\n",
       "      <th></th>\n",
       "      <th>source</th>\n",
       "      <th>target</th>\n",
       "      <th>resource_allocation</th>\n",
       "      <th>neighborhood_overlap</th>\n",
       "      <th>num_common_neighbors</th>\n",
       "      <th>preferential_attachment</th>\n",
       "      <th>weight</th>\n",
       "      <th>betweenness</th>\n",
       "    </tr>\n",
       "  </thead>\n",
       "  <tbody>\n",
       "    <tr>\n",
       "      <th>0</th>\n",
       "      <td>pop rap</td>\n",
       "      <td>rap</td>\n",
       "      <td>2.815387</td>\n",
       "      <td>0.851064</td>\n",
       "      <td>40</td>\n",
       "      <td>1978</td>\n",
       "      <td>335</td>\n",
       "      <td>0.000548</td>\n",
       "    </tr>\n",
       "    <tr>\n",
       "      <th>1</th>\n",
       "      <td>rap</td>\n",
       "      <td>trap</td>\n",
       "      <td>1.899364</td>\n",
       "      <td>0.680851</td>\n",
       "      <td>32</td>\n",
       "      <td>1634</td>\n",
       "      <td>278</td>\n",
       "      <td>0.000920</td>\n",
       "    </tr>\n",
       "    <tr>\n",
       "      <th>2</th>\n",
       "      <td>hip hop</td>\n",
       "      <td>trap</td>\n",
       "      <td>2.227608</td>\n",
       "      <td>0.700000</td>\n",
       "      <td>35</td>\n",
       "      <td>1862</td>\n",
       "      <td>264</td>\n",
       "      <td>0.001030</td>\n",
       "    </tr>\n",
       "    <tr>\n",
       "      <th>3</th>\n",
       "      <td>dance pop</td>\n",
       "      <td>pop</td>\n",
       "      <td>4.430389</td>\n",
       "      <td>0.739130</td>\n",
       "      <td>51</td>\n",
       "      <td>3685</td>\n",
       "      <td>253</td>\n",
       "      <td>0.002220</td>\n",
       "    </tr>\n",
       "    <tr>\n",
       "      <th>4</th>\n",
       "      <td>hip hop</td>\n",
       "      <td>pop</td>\n",
       "      <td>3.139335</td>\n",
       "      <td>0.605634</td>\n",
       "      <td>43</td>\n",
       "      <td>3283</td>\n",
       "      <td>246</td>\n",
       "      <td>0.004939</td>\n",
       "    </tr>\n",
       "  </tbody>\n",
       "</table>\n",
       "</div>"
      ],
      "text/plain": [
       "      source target  resource_allocation  neighborhood_overlap  \\\n",
       "0    pop rap    rap             2.815387              0.851064   \n",
       "1        rap   trap             1.899364              0.680851   \n",
       "2    hip hop   trap             2.227608              0.700000   \n",
       "3  dance pop    pop             4.430389              0.739130   \n",
       "4    hip hop    pop             3.139335              0.605634   \n",
       "\n",
       "   num_common_neighbors  preferential_attachment  weight  betweenness  \n",
       "0                    40                     1978     335     0.000548  \n",
       "1                    32                     1634     278     0.000920  \n",
       "2                    35                     1862     264     0.001030  \n",
       "3                    51                     3685     253     0.002220  \n",
       "4                    43                     3283     246     0.004939  "
      ]
     },
     "execution_count": 79,
     "metadata": {},
     "output_type": "execute_result"
    }
   ],
   "source": [
    "final_2017.head()"
   ]
  },
  {
   "cell_type": "code",
   "execution_count": 64,
   "id": "47b2f390",
   "metadata": {
    "scrolled": true
   },
   "outputs": [
    {
     "data": {
      "text/html": [
       "<div>\n",
       "<style scoped>\n",
       "    .dataframe tbody tr th:only-of-type {\n",
       "        vertical-align: middle;\n",
       "    }\n",
       "\n",
       "    .dataframe tbody tr th {\n",
       "        vertical-align: top;\n",
       "    }\n",
       "\n",
       "    .dataframe thead th {\n",
       "        text-align: right;\n",
       "    }\n",
       "</style>\n",
       "<table border=\"1\" class=\"dataframe\">\n",
       "  <thead>\n",
       "    <tr style=\"text-align: right;\">\n",
       "      <th></th>\n",
       "      <th>source</th>\n",
       "      <th>target</th>\n",
       "      <th>resource_allocation</th>\n",
       "      <th>neighborhood_overlap</th>\n",
       "      <th>num_common_neighbors</th>\n",
       "      <th>preferential_attachment</th>\n",
       "      <th>weight</th>\n",
       "      <th>betweenness</th>\n",
       "    </tr>\n",
       "  </thead>\n",
       "  <tbody>\n",
       "    <tr>\n",
       "      <th>0</th>\n",
       "      <td>pop rap</td>\n",
       "      <td>rap</td>\n",
       "      <td>2.815387</td>\n",
       "      <td>0.851064</td>\n",
       "      <td>40</td>\n",
       "      <td>1978</td>\n",
       "      <td>335</td>\n",
       "      <td>0.000548</td>\n",
       "    </tr>\n",
       "    <tr>\n",
       "      <th>1</th>\n",
       "      <td>rap</td>\n",
       "      <td>trap</td>\n",
       "      <td>1.899364</td>\n",
       "      <td>0.680851</td>\n",
       "      <td>32</td>\n",
       "      <td>1634</td>\n",
       "      <td>278</td>\n",
       "      <td>0.000920</td>\n",
       "    </tr>\n",
       "    <tr>\n",
       "      <th>2</th>\n",
       "      <td>hip hop</td>\n",
       "      <td>trap</td>\n",
       "      <td>2.227608</td>\n",
       "      <td>0.700000</td>\n",
       "      <td>35</td>\n",
       "      <td>1862</td>\n",
       "      <td>264</td>\n",
       "      <td>0.001030</td>\n",
       "    </tr>\n",
       "    <tr>\n",
       "      <th>3</th>\n",
       "      <td>dance pop</td>\n",
       "      <td>pop</td>\n",
       "      <td>4.430389</td>\n",
       "      <td>0.739130</td>\n",
       "      <td>51</td>\n",
       "      <td>3685</td>\n",
       "      <td>253</td>\n",
       "      <td>0.002220</td>\n",
       "    </tr>\n",
       "    <tr>\n",
       "      <th>4</th>\n",
       "      <td>hip hop</td>\n",
       "      <td>pop</td>\n",
       "      <td>3.139335</td>\n",
       "      <td>0.605634</td>\n",
       "      <td>43</td>\n",
       "      <td>3283</td>\n",
       "      <td>246</td>\n",
       "      <td>0.004939</td>\n",
       "    </tr>\n",
       "  </tbody>\n",
       "</table>\n",
       "</div>"
      ],
      "text/plain": [
       "      source target  resource_allocation  neighborhood_overlap  \\\n",
       "0    pop rap    rap             2.815387              0.851064   \n",
       "1        rap   trap             1.899364              0.680851   \n",
       "2    hip hop   trap             2.227608              0.700000   \n",
       "3  dance pop    pop             4.430389              0.739130   \n",
       "4    hip hop    pop             3.139335              0.605634   \n",
       "\n",
       "   num_common_neighbors  preferential_attachment  weight  betweenness  \n",
       "0                    40                     1978     335     0.000548  \n",
       "1                    32                     1634     278     0.000920  \n",
       "2                    35                     1862     264     0.001030  \n",
       "3                    51                     3685     253     0.002220  \n",
       "4                    43                     3283     246     0.004939  "
      ]
     },
     "execution_count": 64,
     "metadata": {},
     "output_type": "execute_result"
    }
   ],
   "source": [
    "final_2017.sort_values(by='weight', ascending=False).head(5)"
   ]
  },
  {
   "cell_type": "code",
   "execution_count": 60,
   "id": "ef6b898b",
   "metadata": {},
   "outputs": [
    {
     "data": {
      "text/html": [
       "<div>\n",
       "<style scoped>\n",
       "    .dataframe tbody tr th:only-of-type {\n",
       "        vertical-align: middle;\n",
       "    }\n",
       "\n",
       "    .dataframe tbody tr th {\n",
       "        vertical-align: top;\n",
       "    }\n",
       "\n",
       "    .dataframe thead th {\n",
       "        text-align: right;\n",
       "    }\n",
       "</style>\n",
       "<table border=\"1\" class=\"dataframe\">\n",
       "  <thead>\n",
       "    <tr style=\"text-align: right;\">\n",
       "      <th></th>\n",
       "      <th>source</th>\n",
       "      <th>target</th>\n",
       "      <th>resource_allocation</th>\n",
       "      <th>neighborhood_overlap</th>\n",
       "      <th>num_common_neighbors</th>\n",
       "      <th>preferential_attachment</th>\n",
       "      <th>weight</th>\n",
       "      <th>betweenness</th>\n",
       "    </tr>\n",
       "  </thead>\n",
       "  <tbody>\n",
       "    <tr>\n",
       "      <th>176</th>\n",
       "      <td>new wave</td>\n",
       "      <td>punk</td>\n",
       "      <td>0.000000</td>\n",
       "      <td>0.000000</td>\n",
       "      <td>0</td>\n",
       "      <td>14</td>\n",
       "      <td>1</td>\n",
       "      <td>0.027778</td>\n",
       "    </tr>\n",
       "    <tr>\n",
       "      <th>177</th>\n",
       "      <td>latin</td>\n",
       "      <td>r&amp;b</td>\n",
       "      <td>0.418158</td>\n",
       "      <td>0.289474</td>\n",
       "      <td>11</td>\n",
       "      <td>650</td>\n",
       "      <td>1</td>\n",
       "      <td>0.001774</td>\n",
       "    </tr>\n",
       "    <tr>\n",
       "      <th>178</th>\n",
       "      <td>dance pop</td>\n",
       "      <td>francoton</td>\n",
       "      <td>0.186471</td>\n",
       "      <td>0.111111</td>\n",
       "      <td>6</td>\n",
       "      <td>385</td>\n",
       "      <td>1</td>\n",
       "      <td>0.005273</td>\n",
       "    </tr>\n",
       "    <tr>\n",
       "      <th>179</th>\n",
       "      <td>dance pop</td>\n",
       "      <td>dubstep</td>\n",
       "      <td>0.144296</td>\n",
       "      <td>0.055556</td>\n",
       "      <td>3</td>\n",
       "      <td>220</td>\n",
       "      <td>1</td>\n",
       "      <td>0.009217</td>\n",
       "    </tr>\n",
       "    <tr>\n",
       "      <th>180</th>\n",
       "      <td>dance pop</td>\n",
       "      <td>disco house</td>\n",
       "      <td>0.062043</td>\n",
       "      <td>0.055556</td>\n",
       "      <td>3</td>\n",
       "      <td>220</td>\n",
       "      <td>1</td>\n",
       "      <td>0.006853</td>\n",
       "    </tr>\n",
       "    <tr>\n",
       "      <th>...</th>\n",
       "      <td>...</td>\n",
       "      <td>...</td>\n",
       "      <td>...</td>\n",
       "      <td>...</td>\n",
       "      <td>...</td>\n",
       "      <td>...</td>\n",
       "      <td>...</td>\n",
       "      <td>...</td>\n",
       "    </tr>\n",
       "    <tr>\n",
       "      <th>251</th>\n",
       "      <td>country</td>\n",
       "      <td>lounge</td>\n",
       "      <td>0.144218</td>\n",
       "      <td>0.200000</td>\n",
       "      <td>3</td>\n",
       "      <td>91</td>\n",
       "      <td>1</td>\n",
       "      <td>0.001445</td>\n",
       "    </tr>\n",
       "    <tr>\n",
       "      <th>252</th>\n",
       "      <td>dance pop</td>\n",
       "      <td>lounge</td>\n",
       "      <td>0.241421</td>\n",
       "      <td>0.071429</td>\n",
       "      <td>4</td>\n",
       "      <td>385</td>\n",
       "      <td>1</td>\n",
       "      <td>0.009510</td>\n",
       "    </tr>\n",
       "    <tr>\n",
       "      <th>253</th>\n",
       "      <td>house</td>\n",
       "      <td>pop rock</td>\n",
       "      <td>0.361142</td>\n",
       "      <td>0.419355</td>\n",
       "      <td>13</td>\n",
       "      <td>465</td>\n",
       "      <td>1</td>\n",
       "      <td>0.001080</td>\n",
       "    </tr>\n",
       "    <tr>\n",
       "      <th>254</th>\n",
       "      <td>dance</td>\n",
       "      <td>pop rock</td>\n",
       "      <td>0.351734</td>\n",
       "      <td>0.541667</td>\n",
       "      <td>13</td>\n",
       "      <td>360</td>\n",
       "      <td>1</td>\n",
       "      <td>0.000776</td>\n",
       "    </tr>\n",
       "    <tr>\n",
       "      <th>255</th>\n",
       "      <td>electro house</td>\n",
       "      <td>rock</td>\n",
       "      <td>0.478159</td>\n",
       "      <td>0.350000</td>\n",
       "      <td>14</td>\n",
       "      <td>748</td>\n",
       "      <td>1</td>\n",
       "      <td>0.002913</td>\n",
       "    </tr>\n",
       "  </tbody>\n",
       "</table>\n",
       "<p>80 rows × 8 columns</p>\n",
       "</div>"
      ],
      "text/plain": [
       "            source       target  resource_allocation  neighborhood_overlap  \\\n",
       "176       new wave         punk             0.000000              0.000000   \n",
       "177          latin          r&b             0.418158              0.289474   \n",
       "178      dance pop    francoton             0.186471              0.111111   \n",
       "179      dance pop      dubstep             0.144296              0.055556   \n",
       "180      dance pop  disco house             0.062043              0.055556   \n",
       "..             ...          ...                  ...                   ...   \n",
       "251        country       lounge             0.144218              0.200000   \n",
       "252      dance pop       lounge             0.241421              0.071429   \n",
       "253          house     pop rock             0.361142              0.419355   \n",
       "254          dance     pop rock             0.351734              0.541667   \n",
       "255  electro house         rock             0.478159              0.350000   \n",
       "\n",
       "     num_common_neighbors  preferential_attachment  weight  betweenness  \n",
       "176                     0                       14       1     0.027778  \n",
       "177                    11                      650       1     0.001774  \n",
       "178                     6                      385       1     0.005273  \n",
       "179                     3                      220       1     0.009217  \n",
       "180                     3                      220       1     0.006853  \n",
       "..                    ...                      ...     ...          ...  \n",
       "251                     3                       91       1     0.001445  \n",
       "252                     4                      385       1     0.009510  \n",
       "253                    13                      465       1     0.001080  \n",
       "254                    13                      360       1     0.000776  \n",
       "255                    14                      748       1     0.002913  \n",
       "\n",
       "[80 rows x 8 columns]"
      ]
     },
     "execution_count": 60,
     "metadata": {},
     "output_type": "execute_result"
    }
   ],
   "source": [
    "#weight\n",
    "\n",
    "w_min17 = final_2017['weight'].min()\n",
    "final_2017.loc[final_2017['weight'] == w_min17]"
   ]
  },
  {
   "cell_type": "code",
   "execution_count": 70,
   "id": "792b7a09",
   "metadata": {},
   "outputs": [
    {
     "data": {
      "text/html": [
       "<div>\n",
       "<style scoped>\n",
       "    .dataframe tbody tr th:only-of-type {\n",
       "        vertical-align: middle;\n",
       "    }\n",
       "\n",
       "    .dataframe tbody tr th {\n",
       "        vertical-align: top;\n",
       "    }\n",
       "\n",
       "    .dataframe thead th {\n",
       "        text-align: right;\n",
       "    }\n",
       "</style>\n",
       "<table border=\"1\" class=\"dataframe\">\n",
       "  <thead>\n",
       "    <tr style=\"text-align: right;\">\n",
       "      <th></th>\n",
       "      <th>source</th>\n",
       "      <th>target</th>\n",
       "      <th>resource_allocation</th>\n",
       "      <th>neighborhood_overlap</th>\n",
       "      <th>num_common_neighbors</th>\n",
       "      <th>preferential_attachment</th>\n",
       "      <th>weight</th>\n",
       "      <th>betweenness</th>\n",
       "    </tr>\n",
       "  </thead>\n",
       "  <tbody>\n",
       "    <tr>\n",
       "      <th>176</th>\n",
       "      <td>new wave</td>\n",
       "      <td>punk</td>\n",
       "      <td>0.000000</td>\n",
       "      <td>0.000000</td>\n",
       "      <td>0</td>\n",
       "      <td>14</td>\n",
       "      <td>1</td>\n",
       "      <td>0.027778</td>\n",
       "    </tr>\n",
       "    <tr>\n",
       "      <th>212</th>\n",
       "      <td>pop</td>\n",
       "      <td>swing</td>\n",
       "      <td>0.253968</td>\n",
       "      <td>0.030303</td>\n",
       "      <td>2</td>\n",
       "      <td>201</td>\n",
       "      <td>1</td>\n",
       "      <td>0.025881</td>\n",
       "    </tr>\n",
       "    <tr>\n",
       "      <th>221</th>\n",
       "      <td>pop</td>\n",
       "      <td>psychedelic rock</td>\n",
       "      <td>0.045455</td>\n",
       "      <td>0.014925</td>\n",
       "      <td>1</td>\n",
       "      <td>201</td>\n",
       "      <td>1</td>\n",
       "      <td>0.024645</td>\n",
       "    </tr>\n",
       "    <tr>\n",
       "      <th>183</th>\n",
       "      <td>hip hop</td>\n",
       "      <td>soca</td>\n",
       "      <td>0.134298</td>\n",
       "      <td>0.062500</td>\n",
       "      <td>3</td>\n",
       "      <td>196</td>\n",
       "      <td>1</td>\n",
       "      <td>0.016406</td>\n",
       "    </tr>\n",
       "    <tr>\n",
       "      <th>117</th>\n",
       "      <td>pop</td>\n",
       "      <td>vallenato</td>\n",
       "      <td>0.099848</td>\n",
       "      <td>0.045455</td>\n",
       "      <td>3</td>\n",
       "      <td>268</td>\n",
       "      <td>3</td>\n",
       "      <td>0.013954</td>\n",
       "    </tr>\n",
       "  </tbody>\n",
       "</table>\n",
       "</div>"
      ],
      "text/plain": [
       "       source            target  resource_allocation  neighborhood_overlap  \\\n",
       "176  new wave              punk             0.000000              0.000000   \n",
       "212       pop             swing             0.253968              0.030303   \n",
       "221       pop  psychedelic rock             0.045455              0.014925   \n",
       "183   hip hop              soca             0.134298              0.062500   \n",
       "117       pop         vallenato             0.099848              0.045455   \n",
       "\n",
       "     num_common_neighbors  preferential_attachment  weight  betweenness  \n",
       "176                     0                       14       1     0.027778  \n",
       "212                     2                      201       1     0.025881  \n",
       "221                     1                      201       1     0.024645  \n",
       "183                     3                      196       1     0.016406  \n",
       "117                     3                      268       3     0.013954  "
      ]
     },
     "execution_count": 70,
     "metadata": {},
     "output_type": "execute_result"
    }
   ],
   "source": [
    "final_2017.sort_values(by='betweenness', ascending=False).head(5)"
   ]
  },
  {
   "cell_type": "code",
   "execution_count": 71,
   "id": "71925053",
   "metadata": {},
   "outputs": [
    {
     "data": {
      "text/html": [
       "<div>\n",
       "<style scoped>\n",
       "    .dataframe tbody tr th:only-of-type {\n",
       "        vertical-align: middle;\n",
       "    }\n",
       "\n",
       "    .dataframe tbody tr th {\n",
       "        vertical-align: top;\n",
       "    }\n",
       "\n",
       "    .dataframe thead th {\n",
       "        text-align: right;\n",
       "    }\n",
       "</style>\n",
       "<table border=\"1\" class=\"dataframe\">\n",
       "  <thead>\n",
       "    <tr style=\"text-align: right;\">\n",
       "      <th></th>\n",
       "      <th>source</th>\n",
       "      <th>target</th>\n",
       "      <th>resource_allocation</th>\n",
       "      <th>neighborhood_overlap</th>\n",
       "      <th>num_common_neighbors</th>\n",
       "      <th>preferential_attachment</th>\n",
       "      <th>weight</th>\n",
       "      <th>betweenness</th>\n",
       "    </tr>\n",
       "  </thead>\n",
       "  <tbody>\n",
       "    <tr>\n",
       "      <th>6</th>\n",
       "      <td>pop</td>\n",
       "      <td>pop</td>\n",
       "      <td>7.912459</td>\n",
       "      <td>0.970149</td>\n",
       "      <td>65</td>\n",
       "      <td>4489</td>\n",
       "      <td>221</td>\n",
       "      <td>0.0</td>\n",
       "    </tr>\n",
       "    <tr>\n",
       "      <th>21</th>\n",
       "      <td>dance pop</td>\n",
       "      <td>dance pop</td>\n",
       "      <td>4.556425</td>\n",
       "      <td>0.963636</td>\n",
       "      <td>53</td>\n",
       "      <td>3025</td>\n",
       "      <td>75</td>\n",
       "      <td>0.0</td>\n",
       "    </tr>\n",
       "    <tr>\n",
       "      <th>9</th>\n",
       "      <td>hip hop</td>\n",
       "      <td>hip hop</td>\n",
       "      <td>3.765371</td>\n",
       "      <td>0.959184</td>\n",
       "      <td>47</td>\n",
       "      <td>2401</td>\n",
       "      <td>159</td>\n",
       "      <td>0.0</td>\n",
       "    </tr>\n",
       "    <tr>\n",
       "      <th>10</th>\n",
       "      <td>pop rap</td>\n",
       "      <td>pop rap</td>\n",
       "      <td>3.176738</td>\n",
       "      <td>0.956522</td>\n",
       "      <td>44</td>\n",
       "      <td>2116</td>\n",
       "      <td>146</td>\n",
       "      <td>0.0</td>\n",
       "    </tr>\n",
       "    <tr>\n",
       "      <th>48</th>\n",
       "      <td>electro</td>\n",
       "      <td>electro</td>\n",
       "      <td>2.911764</td>\n",
       "      <td>0.954545</td>\n",
       "      <td>42</td>\n",
       "      <td>1936</td>\n",
       "      <td>20</td>\n",
       "      <td>0.0</td>\n",
       "    </tr>\n",
       "  </tbody>\n",
       "</table>\n",
       "</div>"
      ],
      "text/plain": [
       "       source     target  resource_allocation  neighborhood_overlap  \\\n",
       "6         pop        pop             7.912459              0.970149   \n",
       "21  dance pop  dance pop             4.556425              0.963636   \n",
       "9     hip hop    hip hop             3.765371              0.959184   \n",
       "10    pop rap    pop rap             3.176738              0.956522   \n",
       "48    electro    electro             2.911764              0.954545   \n",
       "\n",
       "    num_common_neighbors  preferential_attachment  weight  betweenness  \n",
       "6                     65                     4489     221          0.0  \n",
       "21                    53                     3025      75          0.0  \n",
       "9                     47                     2401     159          0.0  \n",
       "10                    44                     2116     146          0.0  \n",
       "48                    42                     1936      20          0.0  "
      ]
     },
     "execution_count": 71,
     "metadata": {},
     "output_type": "execute_result"
    }
   ],
   "source": [
    "final_2017.sort_values(by='neighborhood_overlap', ascending=False).head(5)"
   ]
  },
  {
   "cell_type": "code",
   "execution_count": 72,
   "id": "a5442af0",
   "metadata": {},
   "outputs": [
    {
     "data": {
      "text/html": [
       "<div>\n",
       "<style scoped>\n",
       "    .dataframe tbody tr th:only-of-type {\n",
       "        vertical-align: middle;\n",
       "    }\n",
       "\n",
       "    .dataframe tbody tr th {\n",
       "        vertical-align: top;\n",
       "    }\n",
       "\n",
       "    .dataframe thead th {\n",
       "        text-align: right;\n",
       "    }\n",
       "</style>\n",
       "<table border=\"1\" class=\"dataframe\">\n",
       "  <thead>\n",
       "    <tr style=\"text-align: right;\">\n",
       "      <th></th>\n",
       "      <th>source</th>\n",
       "      <th>target</th>\n",
       "      <th>resource_allocation</th>\n",
       "      <th>neighborhood_overlap</th>\n",
       "      <th>num_common_neighbors</th>\n",
       "      <th>preferential_attachment</th>\n",
       "      <th>weight</th>\n",
       "      <th>betweenness</th>\n",
       "    </tr>\n",
       "  </thead>\n",
       "  <tbody>\n",
       "    <tr>\n",
       "      <th>6</th>\n",
       "      <td>pop</td>\n",
       "      <td>pop</td>\n",
       "      <td>7.912459</td>\n",
       "      <td>0.970149</td>\n",
       "      <td>65</td>\n",
       "      <td>4489</td>\n",
       "      <td>221</td>\n",
       "      <td>0.000000</td>\n",
       "    </tr>\n",
       "    <tr>\n",
       "      <th>3</th>\n",
       "      <td>dance pop</td>\n",
       "      <td>pop</td>\n",
       "      <td>4.430389</td>\n",
       "      <td>0.739130</td>\n",
       "      <td>51</td>\n",
       "      <td>3685</td>\n",
       "      <td>253</td>\n",
       "      <td>0.002220</td>\n",
       "    </tr>\n",
       "    <tr>\n",
       "      <th>4</th>\n",
       "      <td>hip hop</td>\n",
       "      <td>pop</td>\n",
       "      <td>3.139335</td>\n",
       "      <td>0.605634</td>\n",
       "      <td>43</td>\n",
       "      <td>3283</td>\n",
       "      <td>246</td>\n",
       "      <td>0.004939</td>\n",
       "    </tr>\n",
       "    <tr>\n",
       "      <th>21</th>\n",
       "      <td>dance pop</td>\n",
       "      <td>dance pop</td>\n",
       "      <td>4.556425</td>\n",
       "      <td>0.963636</td>\n",
       "      <td>53</td>\n",
       "      <td>3025</td>\n",
       "      <td>75</td>\n",
       "      <td>0.000000</td>\n",
       "    </tr>\n",
       "    <tr>\n",
       "      <th>11</th>\n",
       "      <td>pop</td>\n",
       "      <td>tropical house</td>\n",
       "      <td>2.681513</td>\n",
       "      <td>0.536232</td>\n",
       "      <td>37</td>\n",
       "      <td>2747</td>\n",
       "      <td>139</td>\n",
       "      <td>0.003719</td>\n",
       "    </tr>\n",
       "  </tbody>\n",
       "</table>\n",
       "</div>"
      ],
      "text/plain": [
       "       source          target  resource_allocation  neighborhood_overlap  \\\n",
       "6         pop             pop             7.912459              0.970149   \n",
       "3   dance pop             pop             4.430389              0.739130   \n",
       "4     hip hop             pop             3.139335              0.605634   \n",
       "21  dance pop       dance pop             4.556425              0.963636   \n",
       "11        pop  tropical house             2.681513              0.536232   \n",
       "\n",
       "    num_common_neighbors  preferential_attachment  weight  betweenness  \n",
       "6                     65                     4489     221     0.000000  \n",
       "3                     51                     3685     253     0.002220  \n",
       "4                     43                     3283     246     0.004939  \n",
       "21                    53                     3025      75     0.000000  \n",
       "11                    37                     2747     139     0.003719  "
      ]
     },
     "execution_count": 72,
     "metadata": {},
     "output_type": "execute_result"
    }
   ],
   "source": [
    "final_2017.sort_values(by='preferential_attachment', ascending=False).head(5)"
   ]
  },
  {
   "cell_type": "code",
   "execution_count": 73,
   "id": "eea2e798",
   "metadata": {},
   "outputs": [
    {
     "data": {
      "text/html": [
       "<div>\n",
       "<style scoped>\n",
       "    .dataframe tbody tr th:only-of-type {\n",
       "        vertical-align: middle;\n",
       "    }\n",
       "\n",
       "    .dataframe tbody tr th {\n",
       "        vertical-align: top;\n",
       "    }\n",
       "\n",
       "    .dataframe thead th {\n",
       "        text-align: right;\n",
       "    }\n",
       "</style>\n",
       "<table border=\"1\" class=\"dataframe\">\n",
       "  <thead>\n",
       "    <tr style=\"text-align: right;\">\n",
       "      <th></th>\n",
       "      <th>source</th>\n",
       "      <th>target</th>\n",
       "      <th>resource_allocation</th>\n",
       "      <th>neighborhood_overlap</th>\n",
       "      <th>num_common_neighbors</th>\n",
       "      <th>preferential_attachment</th>\n",
       "      <th>weight</th>\n",
       "      <th>betweenness</th>\n",
       "    </tr>\n",
       "  </thead>\n",
       "  <tbody>\n",
       "    <tr>\n",
       "      <th>6</th>\n",
       "      <td>pop</td>\n",
       "      <td>pop</td>\n",
       "      <td>7.912459</td>\n",
       "      <td>0.970149</td>\n",
       "      <td>65</td>\n",
       "      <td>4489</td>\n",
       "      <td>221</td>\n",
       "      <td>0.00000</td>\n",
       "    </tr>\n",
       "    <tr>\n",
       "      <th>21</th>\n",
       "      <td>dance pop</td>\n",
       "      <td>dance pop</td>\n",
       "      <td>4.556425</td>\n",
       "      <td>0.963636</td>\n",
       "      <td>53</td>\n",
       "      <td>3025</td>\n",
       "      <td>75</td>\n",
       "      <td>0.00000</td>\n",
       "    </tr>\n",
       "    <tr>\n",
       "      <th>3</th>\n",
       "      <td>dance pop</td>\n",
       "      <td>pop</td>\n",
       "      <td>4.430389</td>\n",
       "      <td>0.739130</td>\n",
       "      <td>51</td>\n",
       "      <td>3685</td>\n",
       "      <td>253</td>\n",
       "      <td>0.00222</td>\n",
       "    </tr>\n",
       "    <tr>\n",
       "      <th>9</th>\n",
       "      <td>hip hop</td>\n",
       "      <td>hip hop</td>\n",
       "      <td>3.765371</td>\n",
       "      <td>0.959184</td>\n",
       "      <td>47</td>\n",
       "      <td>2401</td>\n",
       "      <td>159</td>\n",
       "      <td>0.00000</td>\n",
       "    </tr>\n",
       "    <tr>\n",
       "      <th>10</th>\n",
       "      <td>pop rap</td>\n",
       "      <td>pop rap</td>\n",
       "      <td>3.176738</td>\n",
       "      <td>0.956522</td>\n",
       "      <td>44</td>\n",
       "      <td>2116</td>\n",
       "      <td>146</td>\n",
       "      <td>0.00000</td>\n",
       "    </tr>\n",
       "  </tbody>\n",
       "</table>\n",
       "</div>"
      ],
      "text/plain": [
       "       source     target  resource_allocation  neighborhood_overlap  \\\n",
       "6         pop        pop             7.912459              0.970149   \n",
       "21  dance pop  dance pop             4.556425              0.963636   \n",
       "3   dance pop        pop             4.430389              0.739130   \n",
       "9     hip hop    hip hop             3.765371              0.959184   \n",
       "10    pop rap    pop rap             3.176738              0.956522   \n",
       "\n",
       "    num_common_neighbors  preferential_attachment  weight  betweenness  \n",
       "6                     65                     4489     221      0.00000  \n",
       "21                    53                     3025      75      0.00000  \n",
       "3                     51                     3685     253      0.00222  \n",
       "9                     47                     2401     159      0.00000  \n",
       "10                    44                     2116     146      0.00000  "
      ]
     },
     "execution_count": 73,
     "metadata": {},
     "output_type": "execute_result"
    }
   ],
   "source": [
    "final_2017.sort_values(by='num_common_neighbors', ascending=False).head(5)"
   ]
  },
  {
   "cell_type": "code",
   "execution_count": 212,
   "id": "b66f5052",
   "metadata": {},
   "outputs": [
    {
     "data": {
      "text/html": [
       "<div>\n",
       "<style scoped>\n",
       "    .dataframe tbody tr th:only-of-type {\n",
       "        vertical-align: middle;\n",
       "    }\n",
       "\n",
       "    .dataframe tbody tr th {\n",
       "        vertical-align: top;\n",
       "    }\n",
       "\n",
       "    .dataframe thead th {\n",
       "        text-align: right;\n",
       "    }\n",
       "</style>\n",
       "<table border=\"1\" class=\"dataframe\">\n",
       "  <thead>\n",
       "    <tr style=\"text-align: right;\">\n",
       "      <th></th>\n",
       "      <th>source</th>\n",
       "      <th>target</th>\n",
       "      <th>resource_allocation</th>\n",
       "      <th>neighborhood_overlap</th>\n",
       "      <th>num_common_neighbors</th>\n",
       "      <th>preferential_attachment</th>\n",
       "      <th>weight</th>\n",
       "      <th>betweenness</th>\n",
       "    </tr>\n",
       "  </thead>\n",
       "  <tbody>\n",
       "    <tr>\n",
       "      <th>6</th>\n",
       "      <td>pop</td>\n",
       "      <td>pop</td>\n",
       "      <td>7.912459</td>\n",
       "      <td>0.970149</td>\n",
       "      <td>65</td>\n",
       "      <td>4489</td>\n",
       "      <td>221</td>\n",
       "      <td>0.0</td>\n",
       "    </tr>\n",
       "  </tbody>\n",
       "</table>\n",
       "</div>"
      ],
      "text/plain": [
       "  source target  resource_allocation  neighborhood_overlap  \\\n",
       "6    pop    pop             7.912459              0.970149   \n",
       "\n",
       "   num_common_neighbors  preferential_attachment  weight  betweenness  \n",
       "6                    65                     4489     221          0.0  "
      ]
     },
     "execution_count": 212,
     "metadata": {},
     "output_type": "execute_result"
    }
   ],
   "source": [
    "final_2017.sort_values(by='resource_allocation', ascending=False).head(1)"
   ]
  },
  {
   "cell_type": "code",
   "execution_count": 80,
   "id": "f759bb23",
   "metadata": {},
   "outputs": [
    {
     "data": {
      "text/html": [
       "<div>\n",
       "<style scoped>\n",
       "    .dataframe tbody tr th:only-of-type {\n",
       "        vertical-align: middle;\n",
       "    }\n",
       "\n",
       "    .dataframe tbody tr th {\n",
       "        vertical-align: top;\n",
       "    }\n",
       "\n",
       "    .dataframe thead th {\n",
       "        text-align: right;\n",
       "    }\n",
       "</style>\n",
       "<table border=\"1\" class=\"dataframe\">\n",
       "  <thead>\n",
       "    <tr style=\"text-align: right;\">\n",
       "      <th></th>\n",
       "      <th>source</th>\n",
       "      <th>target</th>\n",
       "      <th>resource_allocation</th>\n",
       "      <th>neighborhood_overlap</th>\n",
       "      <th>num_common_neighbors</th>\n",
       "      <th>preferential_attachment</th>\n",
       "      <th>weight</th>\n",
       "      <th>betweenness</th>\n",
       "    </tr>\n",
       "  </thead>\n",
       "  <tbody>\n",
       "    <tr>\n",
       "      <th>0</th>\n",
       "      <td>hip hop</td>\n",
       "      <td>rap</td>\n",
       "      <td>4.767932</td>\n",
       "      <td>0.783333</td>\n",
       "      <td>47</td>\n",
       "      <td>2958</td>\n",
       "      <td>452</td>\n",
       "      <td>0.000964</td>\n",
       "    </tr>\n",
       "    <tr>\n",
       "      <th>1</th>\n",
       "      <td>rap</td>\n",
       "      <td>trap</td>\n",
       "      <td>2.851555</td>\n",
       "      <td>0.703704</td>\n",
       "      <td>38</td>\n",
       "      <td>2193</td>\n",
       "      <td>359</td>\n",
       "      <td>0.001265</td>\n",
       "    </tr>\n",
       "    <tr>\n",
       "      <th>2</th>\n",
       "      <td>hip hop</td>\n",
       "      <td>trap</td>\n",
       "      <td>3.203922</td>\n",
       "      <td>0.677966</td>\n",
       "      <td>40</td>\n",
       "      <td>2494</td>\n",
       "      <td>335</td>\n",
       "      <td>0.001597</td>\n",
       "    </tr>\n",
       "    <tr>\n",
       "      <th>3</th>\n",
       "      <td>hip hop</td>\n",
       "      <td>pop rap</td>\n",
       "      <td>2.861602</td>\n",
       "      <td>0.666667</td>\n",
       "      <td>40</td>\n",
       "      <td>2552</td>\n",
       "      <td>286</td>\n",
       "      <td>0.001694</td>\n",
       "    </tr>\n",
       "    <tr>\n",
       "      <th>4</th>\n",
       "      <td>pop</td>\n",
       "      <td>pop</td>\n",
       "      <td>9.303781</td>\n",
       "      <td>0.971014</td>\n",
       "      <td>67</td>\n",
       "      <td>4761</td>\n",
       "      <td>276</td>\n",
       "      <td>0.000000</td>\n",
       "    </tr>\n",
       "  </tbody>\n",
       "</table>\n",
       "</div>"
      ],
      "text/plain": [
       "    source   target  resource_allocation  neighborhood_overlap  \\\n",
       "0  hip hop      rap             4.767932              0.783333   \n",
       "1      rap     trap             2.851555              0.703704   \n",
       "2  hip hop     trap             3.203922              0.677966   \n",
       "3  hip hop  pop rap             2.861602              0.666667   \n",
       "4      pop      pop             9.303781              0.971014   \n",
       "\n",
       "   num_common_neighbors  preferential_attachment  weight  betweenness  \n",
       "0                    47                     2958     452     0.000964  \n",
       "1                    38                     2193     359     0.001265  \n",
       "2                    40                     2494     335     0.001597  \n",
       "3                    40                     2552     286     0.001694  \n",
       "4                    67                     4761     276     0.000000  "
      ]
     },
     "execution_count": 80,
     "metadata": {},
     "output_type": "execute_result"
    }
   ],
   "source": [
    "df_18_final = ra_result_18.copy()\n",
    "final_2018 = df_18_final.merge(neigh_overlap_18, on = ['source', 'target']).merge(common_neigh_18, on = ['source', 'target']).merge(pa_result_18, on = ['source', 'target'])\n",
    "final_2018 = final_2018.merge(df_18, on = ['source', 'target'])\n",
    "final_2018 = final_2018.drop(columns=['avg_streams', 'normalized_weight'])\n",
    "final_2018 = final_2018.merge(btw_df18, on = ['source', 'target'])\n",
    "\n",
    "final_2018.head()"
   ]
  },
  {
   "cell_type": "code",
   "execution_count": 51,
   "id": "c8ed7e8f",
   "metadata": {},
   "outputs": [
    {
     "data": {
      "text/html": [
       "<div>\n",
       "<style scoped>\n",
       "    .dataframe tbody tr th:only-of-type {\n",
       "        vertical-align: middle;\n",
       "    }\n",
       "\n",
       "    .dataframe tbody tr th {\n",
       "        vertical-align: top;\n",
       "    }\n",
       "\n",
       "    .dataframe thead th {\n",
       "        text-align: right;\n",
       "    }\n",
       "</style>\n",
       "<table border=\"1\" class=\"dataframe\">\n",
       "  <thead>\n",
       "    <tr style=\"text-align: right;\">\n",
       "      <th></th>\n",
       "      <th>source</th>\n",
       "      <th>target</th>\n",
       "      <th>resource_allocation</th>\n",
       "      <th>neighborhood_overlap</th>\n",
       "      <th>num_common_neighbors</th>\n",
       "      <th>preferential_attachment</th>\n",
       "      <th>weight</th>\n",
       "      <th>betweenness</th>\n",
       "    </tr>\n",
       "  </thead>\n",
       "  <tbody>\n",
       "    <tr>\n",
       "      <th>0</th>\n",
       "      <td>hip hop</td>\n",
       "      <td>rap</td>\n",
       "      <td>4.767932</td>\n",
       "      <td>0.783333</td>\n",
       "      <td>47</td>\n",
       "      <td>2958</td>\n",
       "      <td>452</td>\n",
       "      <td>0.000964</td>\n",
       "    </tr>\n",
       "  </tbody>\n",
       "</table>\n",
       "</div>"
      ],
      "text/plain": [
       "    source target  resource_allocation  neighborhood_overlap  \\\n",
       "0  hip hop    rap             4.767932              0.783333   \n",
       "\n",
       "   num_common_neighbors  preferential_attachment  weight  betweenness  \n",
       "0                    47                     2958     452     0.000964  "
      ]
     },
     "execution_count": 51,
     "metadata": {},
     "output_type": "execute_result"
    }
   ],
   "source": [
    "final_2018.sort_values(by='weight', ascending=False).head(1)"
   ]
  },
  {
   "cell_type": "code",
   "execution_count": 52,
   "id": "f2136641",
   "metadata": {},
   "outputs": [
    {
     "data": {
      "text/html": [
       "<div>\n",
       "<style scoped>\n",
       "    .dataframe tbody tr th:only-of-type {\n",
       "        vertical-align: middle;\n",
       "    }\n",
       "\n",
       "    .dataframe tbody tr th {\n",
       "        vertical-align: top;\n",
       "    }\n",
       "\n",
       "    .dataframe thead th {\n",
       "        text-align: right;\n",
       "    }\n",
       "</style>\n",
       "<table border=\"1\" class=\"dataframe\">\n",
       "  <thead>\n",
       "    <tr style=\"text-align: right;\">\n",
       "      <th></th>\n",
       "      <th>source</th>\n",
       "      <th>target</th>\n",
       "      <th>resource_allocation</th>\n",
       "      <th>neighborhood_overlap</th>\n",
       "      <th>num_common_neighbors</th>\n",
       "      <th>preferential_attachment</th>\n",
       "      <th>weight</th>\n",
       "      <th>betweenness</th>\n",
       "    </tr>\n",
       "  </thead>\n",
       "  <tbody>\n",
       "    <tr>\n",
       "      <th>241</th>\n",
       "      <td>latin</td>\n",
       "      <td>rock</td>\n",
       "      <td>0.246957</td>\n",
       "      <td>0.243902</td>\n",
       "      <td>10</td>\n",
       "      <td>682</td>\n",
       "      <td>1</td>\n",
       "      <td>0.004517</td>\n",
       "    </tr>\n",
       "  </tbody>\n",
       "</table>\n",
       "</div>"
      ],
      "text/plain": [
       "    source target  resource_allocation  neighborhood_overlap  \\\n",
       "241  latin   rock             0.246957              0.243902   \n",
       "\n",
       "     num_common_neighbors  preferential_attachment  weight  betweenness  \n",
       "241                    10                      682       1     0.004517  "
      ]
     },
     "execution_count": 52,
     "metadata": {},
     "output_type": "execute_result"
    }
   ],
   "source": [
    "final_2018.sort_values(by='weight', ascending=True).head(1)"
   ]
  },
  {
   "cell_type": "code",
   "execution_count": 215,
   "id": "a7c871ab",
   "metadata": {},
   "outputs": [
    {
     "data": {
      "text/html": [
       "<div>\n",
       "<style scoped>\n",
       "    .dataframe tbody tr th:only-of-type {\n",
       "        vertical-align: middle;\n",
       "    }\n",
       "\n",
       "    .dataframe tbody tr th {\n",
       "        vertical-align: top;\n",
       "    }\n",
       "\n",
       "    .dataframe thead th {\n",
       "        text-align: right;\n",
       "    }\n",
       "</style>\n",
       "<table border=\"1\" class=\"dataframe\">\n",
       "  <thead>\n",
       "    <tr style=\"text-align: right;\">\n",
       "      <th></th>\n",
       "      <th>source</th>\n",
       "      <th>target</th>\n",
       "      <th>resource_allocation</th>\n",
       "      <th>neighborhood_overlap</th>\n",
       "      <th>num_common_neighbors</th>\n",
       "      <th>preferential_attachment</th>\n",
       "      <th>weight</th>\n",
       "      <th>betweenness</th>\n",
       "    </tr>\n",
       "  </thead>\n",
       "  <tbody>\n",
       "    <tr>\n",
       "      <th>237</th>\n",
       "      <td>pop</td>\n",
       "      <td>sertanejo</td>\n",
       "      <td>0.158824</td>\n",
       "      <td>0.028986</td>\n",
       "      <td>2</td>\n",
       "      <td>276</td>\n",
       "      <td>1</td>\n",
       "      <td>0.041307</td>\n",
       "    </tr>\n",
       "  </tbody>\n",
       "</table>\n",
       "</div>"
      ],
      "text/plain": [
       "    source     target  resource_allocation  neighborhood_overlap  \\\n",
       "237    pop  sertanejo             0.158824              0.028986   \n",
       "\n",
       "     num_common_neighbors  preferential_attachment  weight  betweenness  \n",
       "237                     2                      276       1     0.041307  "
      ]
     },
     "execution_count": 215,
     "metadata": {},
     "output_type": "execute_result"
    }
   ],
   "source": [
    "final_2018.sort_values(by='betweenness', ascending=False).head(1)"
   ]
  },
  {
   "cell_type": "code",
   "execution_count": 53,
   "id": "e0ae21e1",
   "metadata": {},
   "outputs": [
    {
     "data": {
      "text/html": [
       "<div>\n",
       "<style scoped>\n",
       "    .dataframe tbody tr th:only-of-type {\n",
       "        vertical-align: middle;\n",
       "    }\n",
       "\n",
       "    .dataframe tbody tr th {\n",
       "        vertical-align: top;\n",
       "    }\n",
       "\n",
       "    .dataframe thead th {\n",
       "        text-align: right;\n",
       "    }\n",
       "</style>\n",
       "<table border=\"1\" class=\"dataframe\">\n",
       "  <thead>\n",
       "    <tr style=\"text-align: right;\">\n",
       "      <th></th>\n",
       "      <th>source</th>\n",
       "      <th>target</th>\n",
       "      <th>resource_allocation</th>\n",
       "      <th>neighborhood_overlap</th>\n",
       "      <th>num_common_neighbors</th>\n",
       "      <th>preferential_attachment</th>\n",
       "      <th>weight</th>\n",
       "      <th>betweenness</th>\n",
       "    </tr>\n",
       "  </thead>\n",
       "  <tbody>\n",
       "    <tr>\n",
       "      <th>56</th>\n",
       "      <td>electropop</td>\n",
       "      <td>electropop</td>\n",
       "      <td>2.225702</td>\n",
       "      <td>0.945946</td>\n",
       "      <td>35</td>\n",
       "      <td>1369</td>\n",
       "      <td>11</td>\n",
       "      <td>0.0</td>\n",
       "    </tr>\n",
       "  </tbody>\n",
       "</table>\n",
       "</div>"
      ],
      "text/plain": [
       "        source      target  resource_allocation  neighborhood_overlap  \\\n",
       "56  electropop  electropop             2.225702              0.945946   \n",
       "\n",
       "    num_common_neighbors  preferential_attachment  weight  betweenness  \n",
       "56                    35                     1369      11          0.0  "
      ]
     },
     "execution_count": 53,
     "metadata": {},
     "output_type": "execute_result"
    }
   ],
   "source": [
    "final_2018.sort_values(by='betweenness', ascending=True).head(1)"
   ]
  },
  {
   "cell_type": "code",
   "execution_count": 216,
   "id": "48759eb7",
   "metadata": {},
   "outputs": [
    {
     "data": {
      "text/html": [
       "<div>\n",
       "<style scoped>\n",
       "    .dataframe tbody tr th:only-of-type {\n",
       "        vertical-align: middle;\n",
       "    }\n",
       "\n",
       "    .dataframe tbody tr th {\n",
       "        vertical-align: top;\n",
       "    }\n",
       "\n",
       "    .dataframe thead th {\n",
       "        text-align: right;\n",
       "    }\n",
       "</style>\n",
       "<table border=\"1\" class=\"dataframe\">\n",
       "  <thead>\n",
       "    <tr style=\"text-align: right;\">\n",
       "      <th></th>\n",
       "      <th>source</th>\n",
       "      <th>target</th>\n",
       "      <th>resource_allocation</th>\n",
       "      <th>neighborhood_overlap</th>\n",
       "      <th>num_common_neighbors</th>\n",
       "      <th>preferential_attachment</th>\n",
       "      <th>weight</th>\n",
       "      <th>betweenness</th>\n",
       "    </tr>\n",
       "  </thead>\n",
       "  <tbody>\n",
       "    <tr>\n",
       "      <th>4</th>\n",
       "      <td>pop</td>\n",
       "      <td>pop</td>\n",
       "      <td>9.303781</td>\n",
       "      <td>0.971014</td>\n",
       "      <td>67</td>\n",
       "      <td>4761</td>\n",
       "      <td>276</td>\n",
       "      <td>0.0</td>\n",
       "    </tr>\n",
       "  </tbody>\n",
       "</table>\n",
       "</div>"
      ],
      "text/plain": [
       "  source target  resource_allocation  neighborhood_overlap  \\\n",
       "4    pop    pop             9.303781              0.971014   \n",
       "\n",
       "   num_common_neighbors  preferential_attachment  weight  betweenness  \n",
       "4                    67                     4761     276          0.0  "
      ]
     },
     "execution_count": 216,
     "metadata": {},
     "output_type": "execute_result"
    }
   ],
   "source": [
    "final_2018.sort_values(by='preferential_attachment', ascending=False).head(1)"
   ]
  },
  {
   "cell_type": "code",
   "execution_count": 54,
   "id": "f21bc0b0",
   "metadata": {},
   "outputs": [
    {
     "data": {
      "text/html": [
       "<div>\n",
       "<style scoped>\n",
       "    .dataframe tbody tr th:only-of-type {\n",
       "        vertical-align: middle;\n",
       "    }\n",
       "\n",
       "    .dataframe tbody tr th {\n",
       "        vertical-align: top;\n",
       "    }\n",
       "\n",
       "    .dataframe thead th {\n",
       "        text-align: right;\n",
       "    }\n",
       "</style>\n",
       "<table border=\"1\" class=\"dataframe\">\n",
       "  <thead>\n",
       "    <tr style=\"text-align: right;\">\n",
       "      <th></th>\n",
       "      <th>source</th>\n",
       "      <th>target</th>\n",
       "      <th>resource_allocation</th>\n",
       "      <th>neighborhood_overlap</th>\n",
       "      <th>num_common_neighbors</th>\n",
       "      <th>preferential_attachment</th>\n",
       "      <th>weight</th>\n",
       "      <th>betweenness</th>\n",
       "    </tr>\n",
       "  </thead>\n",
       "  <tbody>\n",
       "    <tr>\n",
       "      <th>212</th>\n",
       "      <td>pagode</td>\n",
       "      <td>sertanejo</td>\n",
       "      <td>0.0</td>\n",
       "      <td>0.0</td>\n",
       "      <td>0</td>\n",
       "      <td>4</td>\n",
       "      <td>1</td>\n",
       "      <td>0.025316</td>\n",
       "    </tr>\n",
       "  </tbody>\n",
       "</table>\n",
       "</div>"
      ],
      "text/plain": [
       "     source     target  resource_allocation  neighborhood_overlap  \\\n",
       "212  pagode  sertanejo                  0.0                   0.0   \n",
       "\n",
       "     num_common_neighbors  preferential_attachment  weight  betweenness  \n",
       "212                     0                        4       1     0.025316  "
      ]
     },
     "execution_count": 54,
     "metadata": {},
     "output_type": "execute_result"
    }
   ],
   "source": [
    "final_2018.sort_values(by='preferential_attachment', ascending=True).head(1)"
   ]
  },
  {
   "cell_type": "code",
   "execution_count": 217,
   "id": "5feb1e77",
   "metadata": {},
   "outputs": [
    {
     "data": {
      "text/html": [
       "<div>\n",
       "<style scoped>\n",
       "    .dataframe tbody tr th:only-of-type {\n",
       "        vertical-align: middle;\n",
       "    }\n",
       "\n",
       "    .dataframe tbody tr th {\n",
       "        vertical-align: top;\n",
       "    }\n",
       "\n",
       "    .dataframe thead th {\n",
       "        text-align: right;\n",
       "    }\n",
       "</style>\n",
       "<table border=\"1\" class=\"dataframe\">\n",
       "  <thead>\n",
       "    <tr style=\"text-align: right;\">\n",
       "      <th></th>\n",
       "      <th>source</th>\n",
       "      <th>target</th>\n",
       "      <th>resource_allocation</th>\n",
       "      <th>neighborhood_overlap</th>\n",
       "      <th>num_common_neighbors</th>\n",
       "      <th>preferential_attachment</th>\n",
       "      <th>weight</th>\n",
       "      <th>betweenness</th>\n",
       "    </tr>\n",
       "  </thead>\n",
       "  <tbody>\n",
       "    <tr>\n",
       "      <th>4</th>\n",
       "      <td>pop</td>\n",
       "      <td>pop</td>\n",
       "      <td>9.303781</td>\n",
       "      <td>0.971014</td>\n",
       "      <td>67</td>\n",
       "      <td>4761</td>\n",
       "      <td>276</td>\n",
       "      <td>0.0</td>\n",
       "    </tr>\n",
       "  </tbody>\n",
       "</table>\n",
       "</div>"
      ],
      "text/plain": [
       "  source target  resource_allocation  neighborhood_overlap  \\\n",
       "4    pop    pop             9.303781              0.971014   \n",
       "\n",
       "   num_common_neighbors  preferential_attachment  weight  betweenness  \n",
       "4                    67                     4761     276          0.0  "
      ]
     },
     "execution_count": 217,
     "metadata": {},
     "output_type": "execute_result"
    }
   ],
   "source": [
    "final_2018.sort_values(by='num_common_neighbors', ascending=False).head(1)"
   ]
  },
  {
   "cell_type": "code",
   "execution_count": 55,
   "id": "cf2c3fb0",
   "metadata": {},
   "outputs": [
    {
     "data": {
      "text/html": [
       "<div>\n",
       "<style scoped>\n",
       "    .dataframe tbody tr th:only-of-type {\n",
       "        vertical-align: middle;\n",
       "    }\n",
       "\n",
       "    .dataframe tbody tr th {\n",
       "        vertical-align: top;\n",
       "    }\n",
       "\n",
       "    .dataframe thead th {\n",
       "        text-align: right;\n",
       "    }\n",
       "</style>\n",
       "<table border=\"1\" class=\"dataframe\">\n",
       "  <thead>\n",
       "    <tr style=\"text-align: right;\">\n",
       "      <th></th>\n",
       "      <th>source</th>\n",
       "      <th>target</th>\n",
       "      <th>resource_allocation</th>\n",
       "      <th>neighborhood_overlap</th>\n",
       "      <th>num_common_neighbors</th>\n",
       "      <th>preferential_attachment</th>\n",
       "      <th>weight</th>\n",
       "      <th>betweenness</th>\n",
       "    </tr>\n",
       "  </thead>\n",
       "  <tbody>\n",
       "    <tr>\n",
       "      <th>212</th>\n",
       "      <td>pagode</td>\n",
       "      <td>sertanejo</td>\n",
       "      <td>0.0</td>\n",
       "      <td>0.0</td>\n",
       "      <td>0</td>\n",
       "      <td>4</td>\n",
       "      <td>1</td>\n",
       "      <td>0.025316</td>\n",
       "    </tr>\n",
       "  </tbody>\n",
       "</table>\n",
       "</div>"
      ],
      "text/plain": [
       "     source     target  resource_allocation  neighborhood_overlap  \\\n",
       "212  pagode  sertanejo                  0.0                   0.0   \n",
       "\n",
       "     num_common_neighbors  preferential_attachment  weight  betweenness  \n",
       "212                     0                        4       1     0.025316  "
      ]
     },
     "execution_count": 55,
     "metadata": {},
     "output_type": "execute_result"
    }
   ],
   "source": [
    "final_2018.sort_values(by='num_common_neighbors', ascending=True).head(1)"
   ]
  },
  {
   "cell_type": "code",
   "execution_count": 218,
   "id": "c88cfe81",
   "metadata": {},
   "outputs": [
    {
     "data": {
      "text/html": [
       "<div>\n",
       "<style scoped>\n",
       "    .dataframe tbody tr th:only-of-type {\n",
       "        vertical-align: middle;\n",
       "    }\n",
       "\n",
       "    .dataframe tbody tr th {\n",
       "        vertical-align: top;\n",
       "    }\n",
       "\n",
       "    .dataframe thead th {\n",
       "        text-align: right;\n",
       "    }\n",
       "</style>\n",
       "<table border=\"1\" class=\"dataframe\">\n",
       "  <thead>\n",
       "    <tr style=\"text-align: right;\">\n",
       "      <th></th>\n",
       "      <th>source</th>\n",
       "      <th>target</th>\n",
       "      <th>resource_allocation</th>\n",
       "      <th>neighborhood_overlap</th>\n",
       "      <th>num_common_neighbors</th>\n",
       "      <th>preferential_attachment</th>\n",
       "      <th>weight</th>\n",
       "      <th>betweenness</th>\n",
       "    </tr>\n",
       "  </thead>\n",
       "  <tbody>\n",
       "    <tr>\n",
       "      <th>4</th>\n",
       "      <td>pop</td>\n",
       "      <td>pop</td>\n",
       "      <td>9.303781</td>\n",
       "      <td>0.971014</td>\n",
       "      <td>67</td>\n",
       "      <td>4761</td>\n",
       "      <td>276</td>\n",
       "      <td>0.0</td>\n",
       "    </tr>\n",
       "  </tbody>\n",
       "</table>\n",
       "</div>"
      ],
      "text/plain": [
       "  source target  resource_allocation  neighborhood_overlap  \\\n",
       "4    pop    pop             9.303781              0.971014   \n",
       "\n",
       "   num_common_neighbors  preferential_attachment  weight  betweenness  \n",
       "4                    67                     4761     276          0.0  "
      ]
     },
     "execution_count": 218,
     "metadata": {},
     "output_type": "execute_result"
    }
   ],
   "source": [
    "final_2018.sort_values(by='neighborhood_overlap', ascending=False).head(1)"
   ]
  },
  {
   "cell_type": "code",
   "execution_count": 56,
   "id": "d58ea4e0",
   "metadata": {},
   "outputs": [
    {
     "data": {
      "text/html": [
       "<div>\n",
       "<style scoped>\n",
       "    .dataframe tbody tr th:only-of-type {\n",
       "        vertical-align: middle;\n",
       "    }\n",
       "\n",
       "    .dataframe tbody tr th {\n",
       "        vertical-align: top;\n",
       "    }\n",
       "\n",
       "    .dataframe thead th {\n",
       "        text-align: right;\n",
       "    }\n",
       "</style>\n",
       "<table border=\"1\" class=\"dataframe\">\n",
       "  <thead>\n",
       "    <tr style=\"text-align: right;\">\n",
       "      <th></th>\n",
       "      <th>source</th>\n",
       "      <th>target</th>\n",
       "      <th>resource_allocation</th>\n",
       "      <th>neighborhood_overlap</th>\n",
       "      <th>num_common_neighbors</th>\n",
       "      <th>preferential_attachment</th>\n",
       "      <th>weight</th>\n",
       "      <th>betweenness</th>\n",
       "    </tr>\n",
       "  </thead>\n",
       "  <tbody>\n",
       "    <tr>\n",
       "      <th>212</th>\n",
       "      <td>pagode</td>\n",
       "      <td>sertanejo</td>\n",
       "      <td>0.0</td>\n",
       "      <td>0.0</td>\n",
       "      <td>0</td>\n",
       "      <td>4</td>\n",
       "      <td>1</td>\n",
       "      <td>0.025316</td>\n",
       "    </tr>\n",
       "  </tbody>\n",
       "</table>\n",
       "</div>"
      ],
      "text/plain": [
       "     source     target  resource_allocation  neighborhood_overlap  \\\n",
       "212  pagode  sertanejo                  0.0                   0.0   \n",
       "\n",
       "     num_common_neighbors  preferential_attachment  weight  betweenness  \n",
       "212                     0                        4       1     0.025316  "
      ]
     },
     "execution_count": 56,
     "metadata": {},
     "output_type": "execute_result"
    }
   ],
   "source": [
    "final_2018.sort_values(by='neighborhood_overlap', ascending=True).head(1)\n"
   ]
  },
  {
   "cell_type": "code",
   "execution_count": 219,
   "id": "1c48654d",
   "metadata": {},
   "outputs": [
    {
     "data": {
      "text/html": [
       "<div>\n",
       "<style scoped>\n",
       "    .dataframe tbody tr th:only-of-type {\n",
       "        vertical-align: middle;\n",
       "    }\n",
       "\n",
       "    .dataframe tbody tr th {\n",
       "        vertical-align: top;\n",
       "    }\n",
       "\n",
       "    .dataframe thead th {\n",
       "        text-align: right;\n",
       "    }\n",
       "</style>\n",
       "<table border=\"1\" class=\"dataframe\">\n",
       "  <thead>\n",
       "    <tr style=\"text-align: right;\">\n",
       "      <th></th>\n",
       "      <th>source</th>\n",
       "      <th>target</th>\n",
       "      <th>resource_allocation</th>\n",
       "      <th>neighborhood_overlap</th>\n",
       "      <th>num_common_neighbors</th>\n",
       "      <th>preferential_attachment</th>\n",
       "      <th>weight</th>\n",
       "      <th>betweenness</th>\n",
       "    </tr>\n",
       "  </thead>\n",
       "  <tbody>\n",
       "    <tr>\n",
       "      <th>4</th>\n",
       "      <td>pop</td>\n",
       "      <td>pop</td>\n",
       "      <td>9.303781</td>\n",
       "      <td>0.971014</td>\n",
       "      <td>67</td>\n",
       "      <td>4761</td>\n",
       "      <td>276</td>\n",
       "      <td>0.0</td>\n",
       "    </tr>\n",
       "  </tbody>\n",
       "</table>\n",
       "</div>"
      ],
      "text/plain": [
       "  source target  resource_allocation  neighborhood_overlap  \\\n",
       "4    pop    pop             9.303781              0.971014   \n",
       "\n",
       "   num_common_neighbors  preferential_attachment  weight  betweenness  \n",
       "4                    67                     4761     276          0.0  "
      ]
     },
     "execution_count": 219,
     "metadata": {},
     "output_type": "execute_result"
    }
   ],
   "source": [
    "final_2018.sort_values(by='resource_allocation', ascending=False).head(1)"
   ]
  },
  {
   "cell_type": "code",
   "execution_count": 57,
   "id": "8c6ef285",
   "metadata": {},
   "outputs": [
    {
     "data": {
      "text/html": [
       "<div>\n",
       "<style scoped>\n",
       "    .dataframe tbody tr th:only-of-type {\n",
       "        vertical-align: middle;\n",
       "    }\n",
       "\n",
       "    .dataframe tbody tr th {\n",
       "        vertical-align: top;\n",
       "    }\n",
       "\n",
       "    .dataframe thead th {\n",
       "        text-align: right;\n",
       "    }\n",
       "</style>\n",
       "<table border=\"1\" class=\"dataframe\">\n",
       "  <thead>\n",
       "    <tr style=\"text-align: right;\">\n",
       "      <th></th>\n",
       "      <th>source</th>\n",
       "      <th>target</th>\n",
       "      <th>resource_allocation</th>\n",
       "      <th>neighborhood_overlap</th>\n",
       "      <th>num_common_neighbors</th>\n",
       "      <th>preferential_attachment</th>\n",
       "      <th>weight</th>\n",
       "      <th>betweenness</th>\n",
       "    </tr>\n",
       "  </thead>\n",
       "  <tbody>\n",
       "    <tr>\n",
       "      <th>212</th>\n",
       "      <td>pagode</td>\n",
       "      <td>sertanejo</td>\n",
       "      <td>0.0</td>\n",
       "      <td>0.0</td>\n",
       "      <td>0</td>\n",
       "      <td>4</td>\n",
       "      <td>1</td>\n",
       "      <td>0.025316</td>\n",
       "    </tr>\n",
       "  </tbody>\n",
       "</table>\n",
       "</div>"
      ],
      "text/plain": [
       "     source     target  resource_allocation  neighborhood_overlap  \\\n",
       "212  pagode  sertanejo                  0.0                   0.0   \n",
       "\n",
       "     num_common_neighbors  preferential_attachment  weight  betweenness  \n",
       "212                     0                        4       1     0.025316  "
      ]
     },
     "execution_count": 57,
     "metadata": {},
     "output_type": "execute_result"
    }
   ],
   "source": [
    "final_2018.sort_values(by='resource_allocation', ascending=True).head(1)"
   ]
  },
  {
   "cell_type": "code",
   "execution_count": 81,
   "id": "6203f970",
   "metadata": {},
   "outputs": [
    {
     "data": {
      "text/html": [
       "<div>\n",
       "<style scoped>\n",
       "    .dataframe tbody tr th:only-of-type {\n",
       "        vertical-align: middle;\n",
       "    }\n",
       "\n",
       "    .dataframe tbody tr th {\n",
       "        vertical-align: top;\n",
       "    }\n",
       "\n",
       "    .dataframe thead th {\n",
       "        text-align: right;\n",
       "    }\n",
       "</style>\n",
       "<table border=\"1\" class=\"dataframe\">\n",
       "  <thead>\n",
       "    <tr style=\"text-align: right;\">\n",
       "      <th></th>\n",
       "      <th>source</th>\n",
       "      <th>target</th>\n",
       "      <th>resource_allocation</th>\n",
       "      <th>neighborhood_overlap</th>\n",
       "      <th>num_common_neighbors</th>\n",
       "      <th>preferential_attachment</th>\n",
       "      <th>weight</th>\n",
       "      <th>betweenness</th>\n",
       "    </tr>\n",
       "  </thead>\n",
       "  <tbody>\n",
       "    <tr>\n",
       "      <th>0</th>\n",
       "      <td>latin</td>\n",
       "      <td>reggaeton</td>\n",
       "      <td>2.519950</td>\n",
       "      <td>0.902439</td>\n",
       "      <td>37</td>\n",
       "      <td>1600</td>\n",
       "      <td>553</td>\n",
       "      <td>0.000255</td>\n",
       "    </tr>\n",
       "    <tr>\n",
       "      <th>1</th>\n",
       "      <td>hip hop</td>\n",
       "      <td>rap</td>\n",
       "      <td>4.369097</td>\n",
       "      <td>0.761194</td>\n",
       "      <td>51</td>\n",
       "      <td>3599</td>\n",
       "      <td>406</td>\n",
       "      <td>0.001770</td>\n",
       "    </tr>\n",
       "    <tr>\n",
       "      <th>2</th>\n",
       "      <td>pop</td>\n",
       "      <td>pop</td>\n",
       "      <td>9.230085</td>\n",
       "      <td>0.974684</td>\n",
       "      <td>77</td>\n",
       "      <td>6241</td>\n",
       "      <td>299</td>\n",
       "      <td>0.000000</td>\n",
       "    </tr>\n",
       "    <tr>\n",
       "      <th>3</th>\n",
       "      <td>rap</td>\n",
       "      <td>trap</td>\n",
       "      <td>3.382966</td>\n",
       "      <td>0.671875</td>\n",
       "      <td>43</td>\n",
       "      <td>2928</td>\n",
       "      <td>297</td>\n",
       "      <td>0.001432</td>\n",
       "    </tr>\n",
       "    <tr>\n",
       "      <th>4</th>\n",
       "      <td>hip hop</td>\n",
       "      <td>trap</td>\n",
       "      <td>3.457980</td>\n",
       "      <td>0.666667</td>\n",
       "      <td>42</td>\n",
       "      <td>2832</td>\n",
       "      <td>293</td>\n",
       "      <td>0.000884</td>\n",
       "    </tr>\n",
       "  </tbody>\n",
       "</table>\n",
       "</div>"
      ],
      "text/plain": [
       "    source     target  resource_allocation  neighborhood_overlap  \\\n",
       "0    latin  reggaeton             2.519950              0.902439   \n",
       "1  hip hop        rap             4.369097              0.761194   \n",
       "2      pop        pop             9.230085              0.974684   \n",
       "3      rap       trap             3.382966              0.671875   \n",
       "4  hip hop       trap             3.457980              0.666667   \n",
       "\n",
       "   num_common_neighbors  preferential_attachment  weight  betweenness  \n",
       "0                    37                     1600     553     0.000255  \n",
       "1                    51                     3599     406     0.001770  \n",
       "2                    77                     6241     299     0.000000  \n",
       "3                    43                     2928     297     0.001432  \n",
       "4                    42                     2832     293     0.000884  "
      ]
     },
     "execution_count": 81,
     "metadata": {},
     "output_type": "execute_result"
    }
   ],
   "source": [
    "df_19_final = ra_result_19.copy()\n",
    "final_2019 = df_19_final.merge(neigh_overlap_19, on = ['source', 'target']).merge(common_neigh_19, on = ['source', 'target']).merge(pa_result_19, on = ['source', 'target'])\n",
    "final_2019 = final_2019.merge(df_19, on = ['source', 'target'])\n",
    "final_2019 = final_2019.drop(columns=['avg_streams', 'normalized_weight'])\n",
    "final_2019 = final_2019.merge(btw_df19, on = ['source', 'target'])\n",
    "\n",
    "final_2019.head()"
   ]
  },
  {
   "cell_type": "code",
   "execution_count": 214,
   "id": "d1f29d15",
   "metadata": {},
   "outputs": [
    {
     "data": {
      "text/html": [
       "<div>\n",
       "<style scoped>\n",
       "    .dataframe tbody tr th:only-of-type {\n",
       "        vertical-align: middle;\n",
       "    }\n",
       "\n",
       "    .dataframe tbody tr th {\n",
       "        vertical-align: top;\n",
       "    }\n",
       "\n",
       "    .dataframe thead th {\n",
       "        text-align: right;\n",
       "    }\n",
       "</style>\n",
       "<table border=\"1\" class=\"dataframe\">\n",
       "  <thead>\n",
       "    <tr style=\"text-align: right;\">\n",
       "      <th></th>\n",
       "      <th>source</th>\n",
       "      <th>target</th>\n",
       "      <th>resource_allocation</th>\n",
       "      <th>neighborhood_overlap</th>\n",
       "      <th>num_common_neighbors</th>\n",
       "      <th>preferential_attachment</th>\n",
       "      <th>weight</th>\n",
       "      <th>betweenness</th>\n",
       "    </tr>\n",
       "  </thead>\n",
       "  <tbody>\n",
       "    <tr>\n",
       "      <th>0</th>\n",
       "      <td>latin</td>\n",
       "      <td>reggaeton</td>\n",
       "      <td>2.51995</td>\n",
       "      <td>0.902439</td>\n",
       "      <td>37</td>\n",
       "      <td>1600</td>\n",
       "      <td>553</td>\n",
       "      <td>0.000255</td>\n",
       "    </tr>\n",
       "  </tbody>\n",
       "</table>\n",
       "</div>"
      ],
      "text/plain": [
       "  source     target  resource_allocation  neighborhood_overlap  \\\n",
       "0  latin  reggaeton              2.51995              0.902439   \n",
       "\n",
       "   num_common_neighbors  preferential_attachment  weight  betweenness  \n",
       "0                    37                     1600     553     0.000255  "
      ]
     },
     "execution_count": 214,
     "metadata": {},
     "output_type": "execute_result"
    }
   ],
   "source": [
    "final_2019.sort_values(by='weight', ascending=False).head(1)"
   ]
  },
  {
   "cell_type": "code",
   "execution_count": 220,
   "id": "70d772de",
   "metadata": {},
   "outputs": [
    {
     "data": {
      "text/html": [
       "<div>\n",
       "<style scoped>\n",
       "    .dataframe tbody tr th:only-of-type {\n",
       "        vertical-align: middle;\n",
       "    }\n",
       "\n",
       "    .dataframe tbody tr th {\n",
       "        vertical-align: top;\n",
       "    }\n",
       "\n",
       "    .dataframe thead th {\n",
       "        text-align: right;\n",
       "    }\n",
       "</style>\n",
       "<table border=\"1\" class=\"dataframe\">\n",
       "  <thead>\n",
       "    <tr style=\"text-align: right;\">\n",
       "      <th></th>\n",
       "      <th>source</th>\n",
       "      <th>target</th>\n",
       "      <th>resource_allocation</th>\n",
       "      <th>neighborhood_overlap</th>\n",
       "      <th>num_common_neighbors</th>\n",
       "      <th>preferential_attachment</th>\n",
       "      <th>weight</th>\n",
       "      <th>betweenness</th>\n",
       "    </tr>\n",
       "  </thead>\n",
       "  <tbody>\n",
       "    <tr>\n",
       "      <th>273</th>\n",
       "      <td>pop</td>\n",
       "      <td>sertanejo</td>\n",
       "      <td>0.3</td>\n",
       "      <td>0.025316</td>\n",
       "      <td>2</td>\n",
       "      <td>316</td>\n",
       "      <td>1</td>\n",
       "      <td>0.038</td>\n",
       "    </tr>\n",
       "  </tbody>\n",
       "</table>\n",
       "</div>"
      ],
      "text/plain": [
       "    source     target  resource_allocation  neighborhood_overlap  \\\n",
       "273    pop  sertanejo                  0.3              0.025316   \n",
       "\n",
       "     num_common_neighbors  preferential_attachment  weight  betweenness  \n",
       "273                     2                      316       1        0.038  "
      ]
     },
     "execution_count": 220,
     "metadata": {},
     "output_type": "execute_result"
    }
   ],
   "source": [
    "final_2019.sort_values(by='betweenness', ascending=False).head(1)"
   ]
  },
  {
   "cell_type": "code",
   "execution_count": 221,
   "id": "0594e739",
   "metadata": {},
   "outputs": [
    {
     "data": {
      "text/html": [
       "<div>\n",
       "<style scoped>\n",
       "    .dataframe tbody tr th:only-of-type {\n",
       "        vertical-align: middle;\n",
       "    }\n",
       "\n",
       "    .dataframe tbody tr th {\n",
       "        vertical-align: top;\n",
       "    }\n",
       "\n",
       "    .dataframe thead th {\n",
       "        text-align: right;\n",
       "    }\n",
       "</style>\n",
       "<table border=\"1\" class=\"dataframe\">\n",
       "  <thead>\n",
       "    <tr style=\"text-align: right;\">\n",
       "      <th></th>\n",
       "      <th>source</th>\n",
       "      <th>target</th>\n",
       "      <th>resource_allocation</th>\n",
       "      <th>neighborhood_overlap</th>\n",
       "      <th>num_common_neighbors</th>\n",
       "      <th>preferential_attachment</th>\n",
       "      <th>weight</th>\n",
       "      <th>betweenness</th>\n",
       "    </tr>\n",
       "  </thead>\n",
       "  <tbody>\n",
       "    <tr>\n",
       "      <th>2</th>\n",
       "      <td>pop</td>\n",
       "      <td>pop</td>\n",
       "      <td>9.230085</td>\n",
       "      <td>0.974684</td>\n",
       "      <td>77</td>\n",
       "      <td>6241</td>\n",
       "      <td>299</td>\n",
       "      <td>0.0</td>\n",
       "    </tr>\n",
       "  </tbody>\n",
       "</table>\n",
       "</div>"
      ],
      "text/plain": [
       "  source target  resource_allocation  neighborhood_overlap  \\\n",
       "2    pop    pop             9.230085              0.974684   \n",
       "\n",
       "   num_common_neighbors  preferential_attachment  weight  betweenness  \n",
       "2                    77                     6241     299          0.0  "
      ]
     },
     "execution_count": 221,
     "metadata": {},
     "output_type": "execute_result"
    }
   ],
   "source": [
    "final_2019.sort_values(by='preferential_attachment', ascending=False).head(1)"
   ]
  },
  {
   "cell_type": "code",
   "execution_count": 222,
   "id": "59d175ee",
   "metadata": {},
   "outputs": [
    {
     "data": {
      "text/html": [
       "<div>\n",
       "<style scoped>\n",
       "    .dataframe tbody tr th:only-of-type {\n",
       "        vertical-align: middle;\n",
       "    }\n",
       "\n",
       "    .dataframe tbody tr th {\n",
       "        vertical-align: top;\n",
       "    }\n",
       "\n",
       "    .dataframe thead th {\n",
       "        text-align: right;\n",
       "    }\n",
       "</style>\n",
       "<table border=\"1\" class=\"dataframe\">\n",
       "  <thead>\n",
       "    <tr style=\"text-align: right;\">\n",
       "      <th></th>\n",
       "      <th>source</th>\n",
       "      <th>target</th>\n",
       "      <th>resource_allocation</th>\n",
       "      <th>neighborhood_overlap</th>\n",
       "      <th>num_common_neighbors</th>\n",
       "      <th>preferential_attachment</th>\n",
       "      <th>weight</th>\n",
       "      <th>betweenness</th>\n",
       "    </tr>\n",
       "  </thead>\n",
       "  <tbody>\n",
       "    <tr>\n",
       "      <th>2</th>\n",
       "      <td>pop</td>\n",
       "      <td>pop</td>\n",
       "      <td>9.230085</td>\n",
       "      <td>0.974684</td>\n",
       "      <td>77</td>\n",
       "      <td>6241</td>\n",
       "      <td>299</td>\n",
       "      <td>0.0</td>\n",
       "    </tr>\n",
       "  </tbody>\n",
       "</table>\n",
       "</div>"
      ],
      "text/plain": [
       "  source target  resource_allocation  neighborhood_overlap  \\\n",
       "2    pop    pop             9.230085              0.974684   \n",
       "\n",
       "   num_common_neighbors  preferential_attachment  weight  betweenness  \n",
       "2                    77                     6241     299          0.0  "
      ]
     },
     "execution_count": 222,
     "metadata": {},
     "output_type": "execute_result"
    }
   ],
   "source": [
    "final_2019.sort_values(by='num_common_neighbors', ascending=False).head(1)"
   ]
  },
  {
   "cell_type": "code",
   "execution_count": 223,
   "id": "2e3bc0ea",
   "metadata": {},
   "outputs": [
    {
     "data": {
      "text/html": [
       "<div>\n",
       "<style scoped>\n",
       "    .dataframe tbody tr th:only-of-type {\n",
       "        vertical-align: middle;\n",
       "    }\n",
       "\n",
       "    .dataframe tbody tr th {\n",
       "        vertical-align: top;\n",
       "    }\n",
       "\n",
       "    .dataframe thead th {\n",
       "        text-align: right;\n",
       "    }\n",
       "</style>\n",
       "<table border=\"1\" class=\"dataframe\">\n",
       "  <thead>\n",
       "    <tr style=\"text-align: right;\">\n",
       "      <th></th>\n",
       "      <th>source</th>\n",
       "      <th>target</th>\n",
       "      <th>resource_allocation</th>\n",
       "      <th>neighborhood_overlap</th>\n",
       "      <th>num_common_neighbors</th>\n",
       "      <th>preferential_attachment</th>\n",
       "      <th>weight</th>\n",
       "      <th>betweenness</th>\n",
       "    </tr>\n",
       "  </thead>\n",
       "  <tbody>\n",
       "    <tr>\n",
       "      <th>2</th>\n",
       "      <td>pop</td>\n",
       "      <td>pop</td>\n",
       "      <td>9.230085</td>\n",
       "      <td>0.974684</td>\n",
       "      <td>77</td>\n",
       "      <td>6241</td>\n",
       "      <td>299</td>\n",
       "      <td>0.0</td>\n",
       "    </tr>\n",
       "  </tbody>\n",
       "</table>\n",
       "</div>"
      ],
      "text/plain": [
       "  source target  resource_allocation  neighborhood_overlap  \\\n",
       "2    pop    pop             9.230085              0.974684   \n",
       "\n",
       "   num_common_neighbors  preferential_attachment  weight  betweenness  \n",
       "2                    77                     6241     299          0.0  "
      ]
     },
     "execution_count": 223,
     "metadata": {},
     "output_type": "execute_result"
    }
   ],
   "source": [
    "final_2019.sort_values(by='neighborhood_overlap', ascending=False).head(1)"
   ]
  },
  {
   "cell_type": "code",
   "execution_count": 224,
   "id": "bf724895",
   "metadata": {},
   "outputs": [
    {
     "data": {
      "text/html": [
       "<div>\n",
       "<style scoped>\n",
       "    .dataframe tbody tr th:only-of-type {\n",
       "        vertical-align: middle;\n",
       "    }\n",
       "\n",
       "    .dataframe tbody tr th {\n",
       "        vertical-align: top;\n",
       "    }\n",
       "\n",
       "    .dataframe thead th {\n",
       "        text-align: right;\n",
       "    }\n",
       "</style>\n",
       "<table border=\"1\" class=\"dataframe\">\n",
       "  <thead>\n",
       "    <tr style=\"text-align: right;\">\n",
       "      <th></th>\n",
       "      <th>source</th>\n",
       "      <th>target</th>\n",
       "      <th>resource_allocation</th>\n",
       "      <th>neighborhood_overlap</th>\n",
       "      <th>num_common_neighbors</th>\n",
       "      <th>preferential_attachment</th>\n",
       "      <th>weight</th>\n",
       "      <th>betweenness</th>\n",
       "    </tr>\n",
       "  </thead>\n",
       "  <tbody>\n",
       "    <tr>\n",
       "      <th>2</th>\n",
       "      <td>pop</td>\n",
       "      <td>pop</td>\n",
       "      <td>9.230085</td>\n",
       "      <td>0.974684</td>\n",
       "      <td>77</td>\n",
       "      <td>6241</td>\n",
       "      <td>299</td>\n",
       "      <td>0.0</td>\n",
       "    </tr>\n",
       "  </tbody>\n",
       "</table>\n",
       "</div>"
      ],
      "text/plain": [
       "  source target  resource_allocation  neighborhood_overlap  \\\n",
       "2    pop    pop             9.230085              0.974684   \n",
       "\n",
       "   num_common_neighbors  preferential_attachment  weight  betweenness  \n",
       "2                    77                     6241     299          0.0  "
      ]
     },
     "execution_count": 224,
     "metadata": {},
     "output_type": "execute_result"
    }
   ],
   "source": [
    "final_2019.sort_values(by='resource_allocation', ascending=False).head(1)"
   ]
  },
  {
   "cell_type": "markdown",
   "id": "ebbfa27f",
   "metadata": {},
   "source": [
    "## Factor Analysis"
   ]
  },
  {
   "cell_type": "code",
   "execution_count": 82,
   "id": "4733b56d",
   "metadata": {},
   "outputs": [],
   "source": [
    "# Numerical Data types selection\n",
    "\n",
    "num_fac17 = final_2017.select_dtypes(include=[np.number])\n",
    "num_fac18 = final_2018.select_dtypes(include=[np.number])\n",
    "num_fac19 = final_2019.select_dtypes(include=[np.number])"
   ]
  },
  {
   "cell_type": "code",
   "execution_count": 83,
   "id": "39c1f9e6",
   "metadata": {},
   "outputs": [],
   "source": [
    "from sklearn.preprocessing import StandardScaler\n",
    "scaler = StandardScaler()\n",
    "\n",
    "scaled_num_fac17 = pd.DataFrame(scaler.fit_transform(num_fac17), \n",
    "                                columns=num_fac17.columns)\n",
    "\n",
    "scaled_num_fac18 = pd.DataFrame(scaler.fit_transform(num_fac18), \n",
    "                                columns=num_fac18.columns)\n",
    "\n",
    "scaled_num_fac19 = pd.DataFrame(scaler.fit_transform(num_fac19), \n",
    "                                columns=num_fac19.columns)"
   ]
  },
  {
   "cell_type": "markdown",
   "id": "d5685f7c",
   "metadata": {},
   "source": [
    "### Determining number of factors"
   ]
  },
  {
   "cell_type": "code",
   "execution_count": 77,
   "id": "7619247d",
   "metadata": {},
   "outputs": [],
   "source": [
    "def _HornParallelAnalysis(data, K=10, printEigenvalues=False):\n",
    "    ################\n",
    "    # Create a random matrix to match the dataset\n",
    "    ################\n",
    "    n, m = data.shape\n",
    "    # Set the factor analysis parameters\n",
    "    fa = FactorAnalyzer(n_factors=1, method='minres', rotation=None, use_smc=True)\n",
    "    # Create arrays to store the values\n",
    "    sumComponentEigens = np.empty(m)\n",
    "    sumFactorEigens = np.empty(m)\n",
    "    # Run the fit 'K' times over a random matrix\n",
    "    for runNum in range(0, K):\n",
    "        fa.fit(np.random.normal(size=(n, m)))\n",
    "        sumComponentEigens = sumComponentEigens + fa.get_eigenvalues()[0]\n",
    "        sumFactorEigens = sumFactorEigens + fa.get_eigenvalues()[1]\n",
    "    # Average over the number of runs\n",
    "    avgComponentEigens = sumComponentEigens / K\n",
    "    avgFactorEigens = sumFactorEigens / K\n",
    "\n",
    "    ################\n",
    "    # Get the eigenvalues for the fit on supplied data\n",
    "    ################\n",
    "    fa.fit(data)\n",
    "    dataEv = fa.get_eigenvalues()\n",
    "    # Set up a scree plot\n",
    "    plt.figure(figsize=(8, 6))\n",
    "\n",
    "    ################\n",
    "    ### Print results\n",
    "    ################\n",
    "    if printEigenvalues:\n",
    "        print('Principal component eigenvalues for random matrix:\\n', avgComponentEigens)\n",
    "        print('Factor eigenvalues for random matrix:\\n', avgFactorEigens)\n",
    "        print('Principal component eigenvalues for data:\\n', dataEv[0])\n",
    "        print('Factor eigenvalues for data:\\n', dataEv[1])\n",
    "    # Find the suggested stopping points\n",
    "    suggestedFactors = sum((dataEv[1] - avgFactorEigens) > 0)\n",
    "    print('Parallel analysis suggests that the number of factors = ', suggestedFactors)\n",
    "\n",
    "\n",
    "    ################\n",
    "    ### Plot the eigenvalues against the number of variables\n",
    "    ################\n",
    "    # Line for eigenvalue 1\n",
    "    plt.plot([0, m+1], [1, 1], 'k--', alpha=0.3)\n",
    "    # For the random data - Components\n",
    "    plt.plot(range(1, m+1), avgComponentEigens, 'b', label='PC - random', alpha=0.4)\n",
    "    # For the Data - Components\n",
    "    plt.scatter(range(1, m+1), dataEv[0], c='b', marker='o')\n",
    "    plt.plot(range(1, m+1), dataEv[0], 'b', label='PC - data')\n",
    "    # For the random data - Factors\n",
    "    plt.plot(range(1, m+1), avgFactorEigens, 'g', label='FA - random', alpha=0.4)\n",
    "    # For the Data - Factors\n",
    "    plt.scatter(range(1, m+1), dataEv[1], c='g', marker='o')\n",
    "    plt.plot(range(1, m+1), dataEv[1], 'g', label='FA - data')\n",
    "    plt.title('Parallel Analysis Scree Plots', {'fontsize': 20})\n",
    "    plt.xlabel('Factors/Components', {'fontsize': 15})\n",
    "    plt.xticks(ticks=range(1, m+1), labels=range(1, m+1))\n",
    "    plt.ylabel('Eigenvalue', {'fontsize': 15})\n",
    "    plt.legend()\n",
    "    plt.show();"
   ]
  },
  {
   "cell_type": "code",
   "execution_count": 78,
   "id": "456ffbca",
   "metadata": {},
   "outputs": [
    {
     "name": "stdout",
     "output_type": "stream",
     "text": [
      "Parallel analysis suggests that the number of factors =  2\n"
     ]
    },
    {
     "data": {
      "image/png": "[encoded data removed]",
      "text/plain": [
       "<Figure size 576x432 with 1 Axes>"
      ]
     },
     "metadata": {
      "needs_background": "light"
     },
     "output_type": "display_data"
    }
   ],
   "source": [
    "_HornParallelAnalysis(scaled_num_fac17)"
   ]
  },
  {
   "cell_type": "code",
   "execution_count": 79,
   "id": "aace2bed",
   "metadata": {},
   "outputs": [
    {
     "name": "stdout",
     "output_type": "stream",
     "text": [
      "Parallel analysis suggests that the number of factors =  3\n"
     ]
    },
    {
     "data": {
      "image/png": "[encoded data removed]",
      "text/plain": [
       "<Figure size 576x432 with 1 Axes>"
      ]
     },
     "metadata": {
      "needs_background": "light"
     },
     "output_type": "display_data"
    }
   ],
   "source": [
    "_HornParallelAnalysis(scaled_num_fac18)"
   ]
  },
  {
   "cell_type": "code",
   "execution_count": 80,
   "id": "13dabb31",
   "metadata": {},
   "outputs": [
    {
     "name": "stdout",
     "output_type": "stream",
     "text": [
      "Parallel analysis suggests that the number of factors =  3\n"
     ]
    },
    {
     "data": {
      "image/png": "[encoded data removed]",
      "text/plain": [
       "<Figure size 576x432 with 1 Axes>"
      ]
     },
     "metadata": {
      "needs_background": "light"
     },
     "output_type": "display_data"
    }
   ],
   "source": [
    "_HornParallelAnalysis(scaled_num_fac19)"
   ]
  },
  {
   "cell_type": "markdown",
   "id": "602e92bf",
   "metadata": {},
   "source": [
    "### Factor Analysis"
   ]
  },
  {
   "cell_type": "markdown",
   "id": "d9ec7249",
   "metadata": {},
   "source": [
    "Oblique rotation will be applied so that it allows factors to be correlated to each other."
   ]
  },
  {
   "cell_type": "code",
   "execution_count": 92,
   "id": "80ea00f3",
   "metadata": {},
   "outputs": [
    {
     "name": "stdout",
     "output_type": "stream",
     "text": [
      "                                0         1\n",
      "resource_allocation      0.880057  0.135798\n",
      "neighborhood_overlap     0.101776  0.939958\n",
      "num_common_neighbors     0.834451  0.241917\n",
      "preferential_attachment  1.038180 -0.164775\n",
      "weight                   0.706030  0.023471\n",
      "betweenness              0.143664 -0.640817\n"
     ]
    }
   ],
   "source": [
    "# Loadings\n",
    "# how much factor explains a variable\n",
    "fa17 = FactorAnalyzer(n_factors = 2, rotation='oblimin')\n",
    "fa17.fit(scaled_num_fac17)\n",
    "print(pd.DataFrame(fa17.loadings_, index=scaled_num_fac17.columns))"
   ]
  },
  {
   "cell_type": "markdown",
   "id": "cc499d7d",
   "metadata": {},
   "source": [
    "Factor 1: RA, Common Neighbors, Preferential Attachment, Weight\n",
    "\n",
    "Factor 2: Neighborhood Overlap, Betweenness (negative)"
   ]
  },
  {
   "cell_type": "code",
   "execution_count": 86,
   "id": "8f2e49d1",
   "metadata": {},
   "outputs": [
    {
     "name": "stdout",
     "output_type": "stream",
     "text": [
      "                                0         1         2\n",
      "resource_allocation      0.049480  0.911284  0.079178\n",
      "neighborhood_overlap     0.011218  0.195443  0.858421\n",
      "num_common_neighbors     0.749201  0.067218  0.305155\n",
      "preferential_attachment  0.998111  0.043549 -0.098285\n",
      "weight                   0.068609  0.757043 -0.057173\n",
      "betweenness             -0.113372  0.248685 -0.635987\n"
     ]
    }
   ],
   "source": [
    "# Loadings\n",
    "# how much factor explains a variable\n",
    "fa18 = FactorAnalyzer(n_factors = 3, rotation='oblimin', use_smc = False)\n",
    "fa18.fit(scaled_num_fac18)\n",
    "print(pd.DataFrame(fa18.loadings_, index=scaled_num_fac18.columns))"
   ]
  },
  {
   "cell_type": "markdown",
   "id": "70323514",
   "metadata": {},
   "source": [
    "Factor 1: Common Neighbors, PA\n",
    "\n",
    "Factor 2: RA, Weight\n",
    "\n",
    "Factor 3: Neighborhood Overlap, Betweenness (negative)"
   ]
  },
  {
   "cell_type": "code",
   "execution_count": 87,
   "id": "7f34e243",
   "metadata": {},
   "outputs": [
    {
     "name": "stdout",
     "output_type": "stream",
     "text": [
      "                                0         1         2\n",
      "resource_allocation      0.085590  0.892542  0.056769\n",
      "neighborhood_overlap    -0.007308  0.187721  0.852740\n",
      "num_common_neighbors     0.736606  0.095576  0.306309\n",
      "preferential_attachment  1.005774  0.033630 -0.098667\n",
      "weight                   0.020549  0.702614 -0.027709\n",
      "betweenness             -0.101277  0.266392 -0.635432\n"
     ]
    }
   ],
   "source": [
    "# Loadings\n",
    "# how much factor explains a variable\n",
    "fa19 = FactorAnalyzer(n_factors = 3, rotation='oblimin')\n",
    "fa19.fit(scaled_num_fac19)\n",
    "print(pd.DataFrame(fa19.loadings_, index=scaled_num_fac19.columns))"
   ]
  },
  {
   "cell_type": "markdown",
   "id": "7929abaf",
   "metadata": {},
   "source": [
    "Factor 1: Common Neighbors, PA\n",
    "\n",
    "Factor 2: RA, Weight\n",
    "\n",
    "Factor 3: Neighborhood Overlap, Betweeness (negative)"
   ]
  },
  {
   "cell_type": "code",
   "execution_count": 89,
   "id": "bb2dce8c",
   "metadata": {
    "scrolled": true
   },
   "outputs": [
    {
     "name": "stdout",
     "output_type": "stream",
     "text": [
      "                         0         1\n",
      "Variance          3.078103  1.398833\n",
      "Proportional Var  0.513017  0.233139\n",
      "Cumulative Var    0.513017  0.746156\n",
      "                         0         1         2\n",
      "Variance          1.577662  1.510009  1.253684\n",
      "Proportional Var  0.262944  0.251668  0.208947\n",
      "Cumulative Var    0.262944  0.514612  0.723559\n",
      "                         0         1         2\n",
      "Variance          1.572227  1.406768  1.238490\n",
      "Proportional Var  0.262038  0.234461  0.206415\n",
      "Cumulative Var    0.262038  0.496499  0.702914\n"
     ]
    }
   ],
   "source": [
    "# Variance\n",
    "\n",
    "print(pd.DataFrame(fa17.get_factor_variance(), index=['Variance', 'Proportional Var', 'Cumulative Var']))\n",
    "print(pd.DataFrame(fa18.get_factor_variance(), index=['Variance', 'Proportional Var', 'Cumulative Var']))\n",
    "print(pd.DataFrame(fa19.get_factor_variance(), index=['Variance', 'Proportional Var', 'Cumulative Var']))"
   ]
  },
  {
   "cell_type": "code",
   "execution_count": 90,
   "id": "914b7365",
   "metadata": {},
   "outputs": [
    {
     "name": "stdout",
     "output_type": "stream",
     "text": [
      "                         Communalities\n",
      "resource_allocation           0.792941\n",
      "neighborhood_overlap          0.893879\n",
      "num_common_neighbors          0.754833\n",
      "preferential_attachment       1.104969\n",
      "weight                        0.499030\n",
      "betweenness                   0.431285\n",
      "                         Communalities\n",
      "resource_allocation           0.839155\n",
      "neighborhood_overlap          0.775211\n",
      "num_common_neighbors          0.658940\n",
      "preferential_attachment       1.007781\n",
      "weight                        0.581091\n",
      "betweenness                   0.479177\n",
      "                         Communalities\n",
      "resource_allocation           0.807180\n",
      "neighborhood_overlap          0.762458\n",
      "num_common_neighbors          0.645548\n",
      "preferential_attachment       1.022447\n",
      "weight                        0.494857\n",
      "betweenness                   0.484996\n"
     ]
    }
   ],
   "source": [
    "# communalities\n",
    "# proportion of each variable's variance that can be explained by the factors\n",
    "\n",
    "print(pd.DataFrame(fa17.get_communalities(), index=num_fac17.columns, columns=['Communalities']))\n",
    "print(pd.DataFrame(fa18.get_communalities(), index=num_fac18.columns, columns=['Communalities']))\n",
    "print(pd.DataFrame(fa19.get_communalities(), index=num_fac19.columns, columns=['Communalities']))\n"
   ]
  }
 ],
 "metadata": {
  "kernelspec": {
   "display_name": "Python 3",
   "language": "python",
   "name": "python3"
  },
  "language_info": {
   "codemirror_mode": {
    "name": "ipython",
    "version": 3
   },
   "file_extension": ".py",
   "mimetype": "text/x-python",
   "name": "python",
   "nbconvert_exporter": "python",
   "pygments_lexer": "ipython3",
   "version": "3.8.3"
  },
  "toc": {
   "base_numbering": 1,
   "nav_menu": {},
   "number_sections": true,
   "sideBar": true,
   "skip_h1_title": false,
   "title_cell": "Table of Contents",
   "title_sidebar": "Contents",
   "toc_cell": false,
   "toc_position": {},
   "toc_section_display": true,
   "toc_window_display": false
  }
 },
 "nbformat": 4,
 "nbformat_minor": 5
}
